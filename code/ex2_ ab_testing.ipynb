{
 "cells": [
  {
   "cell_type": "markdown",
   "metadata": {},
   "source": [
    "# A/B Testing "
   ]
  },
  {
   "cell_type": "markdown",
   "metadata": {},
   "source": [
    "For this exercise, we have an A/B test dataset that ran in several countries and we need to derive conclusions from it.\n",
    "\n",
    "First things first, let's have a look at it "
   ]
  },
  {
   "cell_type": "markdown",
   "metadata": {},
   "source": [
    "### Import and read the data"
   ]
  },
  {
   "cell_type": "code",
   "execution_count": 110,
   "metadata": {},
   "outputs": [],
   "source": [
    "import pandas as pd\n",
    "import numpy as np\n",
    "import matplotlib.pyplot as plt\n",
    "import scipy.stats as stats\n",
    "import math \n",
    "%matplotlib inline "
   ]
  },
  {
   "cell_type": "code",
   "execution_count": 111,
   "metadata": {},
   "outputs": [],
   "source": [
    "data_ab = pd.read_csv(\"../data/ex2_ab_test.csv\")"
   ]
  },
  {
   "cell_type": "code",
   "execution_count": 112,
   "metadata": {},
   "outputs": [
    {
     "data": {
      "text/html": [
       "<div>\n",
       "<style scoped>\n",
       "    .dataframe tbody tr th:only-of-type {\n",
       "        vertical-align: middle;\n",
       "    }\n",
       "\n",
       "    .dataframe tbody tr th {\n",
       "        vertical-align: top;\n",
       "    }\n",
       "\n",
       "    .dataframe thead th {\n",
       "        text-align: right;\n",
       "    }\n",
       "</style>\n",
       "<table border=\"1\" class=\"dataframe\">\n",
       "  <thead>\n",
       "    <tr style=\"text-align: right;\">\n",
       "      <th></th>\n",
       "      <th>Unnamed: 0</th>\n",
       "      <th>trials_A</th>\n",
       "      <th>successes_A</th>\n",
       "      <th>trials_B</th>\n",
       "      <th>successes_B</th>\n",
       "    </tr>\n",
       "  </thead>\n",
       "  <tbody>\n",
       "    <tr>\n",
       "      <th>0</th>\n",
       "      <td>Country_1</td>\n",
       "      <td>8251</td>\n",
       "      <td>512</td>\n",
       "      <td>1084</td>\n",
       "      <td>89</td>\n",
       "    </tr>\n",
       "    <tr>\n",
       "      <th>1</th>\n",
       "      <td>Country_2</td>\n",
       "      <td>5604</td>\n",
       "      <td>353</td>\n",
       "      <td>257</td>\n",
       "      <td>17</td>\n",
       "    </tr>\n",
       "    <tr>\n",
       "      <th>2</th>\n",
       "      <td>Country_3</td>\n",
       "      <td>3252</td>\n",
       "      <td>120</td>\n",
       "      <td>5931</td>\n",
       "      <td>202</td>\n",
       "    </tr>\n",
       "    <tr>\n",
       "      <th>3</th>\n",
       "      <td>Country_4</td>\n",
       "      <td>4174</td>\n",
       "      <td>138</td>\n",
       "      <td>3758</td>\n",
       "      <td>131</td>\n",
       "    </tr>\n",
       "    <tr>\n",
       "      <th>4</th>\n",
       "      <td>Country_5</td>\n",
       "      <td>1918</td>\n",
       "      <td>53</td>\n",
       "      <td>3939</td>\n",
       "      <td>94</td>\n",
       "    </tr>\n",
       "  </tbody>\n",
       "</table>\n",
       "</div>"
      ],
      "text/plain": [
       "  Unnamed: 0  trials_A  successes_A  trials_B  successes_B\n",
       "0  Country_1      8251          512      1084           89\n",
       "1  Country_2      5604          353       257           17\n",
       "2  Country_3      3252          120      5931          202\n",
       "3  Country_4      4174          138      3758          131\n",
       "4  Country_5      1918           53      3939           94"
      ]
     },
     "execution_count": 112,
     "metadata": {},
     "output_type": "execute_result"
    }
   ],
   "source": [
    "data_ab.head()"
   ]
  },
  {
   "cell_type": "code",
   "execution_count": 113,
   "metadata": {},
   "outputs": [
    {
     "data": {
      "text/html": [
       "<div>\n",
       "<style scoped>\n",
       "    .dataframe tbody tr th:only-of-type {\n",
       "        vertical-align: middle;\n",
       "    }\n",
       "\n",
       "    .dataframe tbody tr th {\n",
       "        vertical-align: top;\n",
       "    }\n",
       "\n",
       "    .dataframe thead th {\n",
       "        text-align: right;\n",
       "    }\n",
       "</style>\n",
       "<table border=\"1\" class=\"dataframe\">\n",
       "  <thead>\n",
       "    <tr style=\"text-align: right;\">\n",
       "      <th></th>\n",
       "      <th>trials_A</th>\n",
       "      <th>successes_A</th>\n",
       "      <th>trials_B</th>\n",
       "      <th>successes_B</th>\n",
       "    </tr>\n",
       "  </thead>\n",
       "  <tbody>\n",
       "    <tr>\n",
       "      <th>count</th>\n",
       "      <td>6.000000</td>\n",
       "      <td>6.000000</td>\n",
       "      <td>6.000000</td>\n",
       "      <td>6.000000</td>\n",
       "    </tr>\n",
       "    <tr>\n",
       "      <th>mean</th>\n",
       "      <td>4488.333333</td>\n",
       "      <td>199.666667</td>\n",
       "      <td>3063.500000</td>\n",
       "      <td>92.833333</td>\n",
       "    </tr>\n",
       "    <tr>\n",
       "      <th>std</th>\n",
       "      <td>2200.448379</td>\n",
       "      <td>191.984027</td>\n",
       "      <td>2068.221531</td>\n",
       "      <td>69.106922</td>\n",
       "    </tr>\n",
       "    <tr>\n",
       "      <th>min</th>\n",
       "      <td>1918.000000</td>\n",
       "      <td>22.000000</td>\n",
       "      <td>257.000000</td>\n",
       "      <td>17.000000</td>\n",
       "    </tr>\n",
       "    <tr>\n",
       "      <th>25%</th>\n",
       "      <td>3371.750000</td>\n",
       "      <td>69.750000</td>\n",
       "      <td>1666.000000</td>\n",
       "      <td>40.250000</td>\n",
       "    </tr>\n",
       "    <tr>\n",
       "      <th>50%</th>\n",
       "      <td>3952.500000</td>\n",
       "      <td>129.000000</td>\n",
       "      <td>3585.000000</td>\n",
       "      <td>91.500000</td>\n",
       "    </tr>\n",
       "    <tr>\n",
       "      <th>75%</th>\n",
       "      <td>5246.500000</td>\n",
       "      <td>299.250000</td>\n",
       "      <td>3893.750000</td>\n",
       "      <td>121.750000</td>\n",
       "    </tr>\n",
       "    <tr>\n",
       "      <th>max</th>\n",
       "      <td>8251.000000</td>\n",
       "      <td>512.000000</td>\n",
       "      <td>5931.000000</td>\n",
       "      <td>202.000000</td>\n",
       "    </tr>\n",
       "  </tbody>\n",
       "</table>\n",
       "</div>"
      ],
      "text/plain": [
       "          trials_A  successes_A     trials_B  successes_B\n",
       "count     6.000000     6.000000     6.000000     6.000000\n",
       "mean   4488.333333   199.666667  3063.500000    92.833333\n",
       "std    2200.448379   191.984027  2068.221531    69.106922\n",
       "min    1918.000000    22.000000   257.000000    17.000000\n",
       "25%    3371.750000    69.750000  1666.000000    40.250000\n",
       "50%    3952.500000   129.000000  3585.000000    91.500000\n",
       "75%    5246.500000   299.250000  3893.750000   121.750000\n",
       "max    8251.000000   512.000000  5931.000000   202.000000"
      ]
     },
     "execution_count": 113,
     "metadata": {},
     "output_type": "execute_result"
    }
   ],
   "source": [
    "data_ab.describe()"
   ]
  },
  {
   "cell_type": "markdown",
   "metadata": {},
   "source": [
    "We have trials and successes for group A and group B for each country. Let's assume that VC is testing a new feature on its website and it is doing so by having a control group A (traditional website) and a trial group (group B) where the new feature is presented to the customers. "
   ]
  },
  {
   "cell_type": "markdown",
   "metadata": {},
   "source": [
    "First things first, let's calculate the conversion rate since it is going to be the indicator that we are going to use in order to determine if method B is better"
   ]
  },
  {
   "cell_type": "code",
   "execution_count": 117,
   "metadata": {},
   "outputs": [],
   "source": [
    "data_ab.rename(columns={\"Unnamed: 0\":\"country\"}, inplace=True)\n",
    "data_ab[\"conversion_rate_A\"] = data_ab[\"successes_A\"] / data_ab[\"trials_A\"]\n",
    "data_ab[\"conversion_rate_B\"] = data_ab[\"successes_B\"] / data_ab[\"trials_B\"]"
   ]
  },
  {
   "cell_type": "code",
   "execution_count": 118,
   "metadata": {},
   "outputs": [
    {
     "data": {
      "text/html": [
       "<div>\n",
       "<style scoped>\n",
       "    .dataframe tbody tr th:only-of-type {\n",
       "        vertical-align: middle;\n",
       "    }\n",
       "\n",
       "    .dataframe tbody tr th {\n",
       "        vertical-align: top;\n",
       "    }\n",
       "\n",
       "    .dataframe thead th {\n",
       "        text-align: right;\n",
       "    }\n",
       "</style>\n",
       "<table border=\"1\" class=\"dataframe\">\n",
       "  <thead>\n",
       "    <tr style=\"text-align: right;\">\n",
       "      <th></th>\n",
       "      <th>country</th>\n",
       "      <th>trials_A</th>\n",
       "      <th>successes_A</th>\n",
       "      <th>trials_B</th>\n",
       "      <th>successes_B</th>\n",
       "      <th>conversion_rate_A</th>\n",
       "      <th>conversion_rate_B</th>\n",
       "    </tr>\n",
       "  </thead>\n",
       "  <tbody>\n",
       "    <tr>\n",
       "      <th>0</th>\n",
       "      <td>Country_1</td>\n",
       "      <td>8251</td>\n",
       "      <td>512</td>\n",
       "      <td>1084</td>\n",
       "      <td>89</td>\n",
       "      <td>0.062053</td>\n",
       "      <td>0.082103</td>\n",
       "    </tr>\n",
       "    <tr>\n",
       "      <th>1</th>\n",
       "      <td>Country_2</td>\n",
       "      <td>5604</td>\n",
       "      <td>353</td>\n",
       "      <td>257</td>\n",
       "      <td>17</td>\n",
       "      <td>0.062991</td>\n",
       "      <td>0.066148</td>\n",
       "    </tr>\n",
       "    <tr>\n",
       "      <th>2</th>\n",
       "      <td>Country_3</td>\n",
       "      <td>3252</td>\n",
       "      <td>120</td>\n",
       "      <td>5931</td>\n",
       "      <td>202</td>\n",
       "      <td>0.036900</td>\n",
       "      <td>0.034058</td>\n",
       "    </tr>\n",
       "    <tr>\n",
       "      <th>3</th>\n",
       "      <td>Country_4</td>\n",
       "      <td>4174</td>\n",
       "      <td>138</td>\n",
       "      <td>3758</td>\n",
       "      <td>131</td>\n",
       "      <td>0.033062</td>\n",
       "      <td>0.034859</td>\n",
       "    </tr>\n",
       "    <tr>\n",
       "      <th>4</th>\n",
       "      <td>Country_5</td>\n",
       "      <td>1918</td>\n",
       "      <td>53</td>\n",
       "      <td>3939</td>\n",
       "      <td>94</td>\n",
       "      <td>0.027633</td>\n",
       "      <td>0.023864</td>\n",
       "    </tr>\n",
       "    <tr>\n",
       "      <th>5</th>\n",
       "      <td>Country_6</td>\n",
       "      <td>3731</td>\n",
       "      <td>22</td>\n",
       "      <td>3412</td>\n",
       "      <td>24</td>\n",
       "      <td>0.005897</td>\n",
       "      <td>0.007034</td>\n",
       "    </tr>\n",
       "  </tbody>\n",
       "</table>\n",
       "</div>"
      ],
      "text/plain": [
       "     country  trials_A  successes_A  trials_B  successes_B  conversion_rate_A  \\\n",
       "0  Country_1      8251          512      1084           89           0.062053   \n",
       "1  Country_2      5604          353       257           17           0.062991   \n",
       "2  Country_3      3252          120      5931          202           0.036900   \n",
       "3  Country_4      4174          138      3758          131           0.033062   \n",
       "4  Country_5      1918           53      3939           94           0.027633   \n",
       "5  Country_6      3731           22      3412           24           0.005897   \n",
       "\n",
       "   conversion_rate_B  \n",
       "0           0.082103  \n",
       "1           0.066148  \n",
       "2           0.034058  \n",
       "3           0.034859  \n",
       "4           0.023864  \n",
       "5           0.007034  "
      ]
     },
     "execution_count": 118,
     "metadata": {},
     "output_type": "execute_result"
    }
   ],
   "source": [
    "data_ab"
   ]
  },
  {
   "cell_type": "markdown",
   "metadata": {},
   "source": [
    "At first sight we could be tempted to say that method B performed super well on country 1, 2, 4 and 6 but that is **NOT statistically approuved** "
   ]
  },
  {
   "cell_type": "markdown",
   "metadata": {},
   "source": [
    "In fact, in order to be statistically approuved, we need to modelize the distribution for each country, fix a null hypothesis aanc calculate a the p-value in order to see if the B group performed better than A. \n",
    "\n",
    "To do so, we will first fix a null hypothesis which will be **\"in terms of CR, Group B is less then or equal than A\"** and **a confidence level of 95%** (p-value = 0,05)"
   ]
  },
  {
   "cell_type": "markdown",
   "metadata": {},
   "source": [
    "As an example, we will take one coutry and modelize it quickly using a normal law "
   ]
  },
  {
   "cell_type": "code",
   "execution_count": 144,
   "metadata": {
    "scrolled": true
   },
   "outputs": [
    {
     "data": {
      "text/plain": [
       "<matplotlib.legend.Legend at 0x29f93288ba8>"
      ]
     },
     "execution_count": 144,
     "metadata": {},
     "output_type": "execute_result"
    },
    {
     "data": {
      "image/png": "[encoded data removed]",
      "text/plain": [
       "<matplotlib.figure.Figure at 0x29f93116ba8>"
      ]
     },
     "metadata": {},
     "output_type": "display_data"
    }
   ],
   "source": [
    "country = \"Country_1\"\n",
    "rate_a = data_ab[data_ab[\"country\"] == country].conversion_rate_A.values[0]\n",
    "rate_b = data_ab[data_ab[\"country\"] == country].conversion_rate_B.values[0]\n",
    "\n",
    "trials_a = data_ab[data_ab[\"country\"] == country].trials_A.values[0]\n",
    "trials_b = data_ab[data_ab[\"country\"] == country].trials_B.values[0]\n",
    "\n",
    "std_a = np.sqrt(rate_a * (1 - rate_a) / trials_a)\n",
    "std_b = np.sqrt(rate_b * (1 - rate_b) / trials_b)\n",
    "\n",
    "click_rate = np.linspace(0, 0.2, 200)\n",
    "prob_a = stats.norm(rate_a, std_a).pdf(click_rate)\n",
    "prob_b = stats.norm(rate_b, std_b).pdf(click_rate)\n",
    "\n",
    "# Make the bar plots.\n",
    "plt.plot(click_rate, prob_a, label=\"A\")\n",
    "plt.plot(click_rate, prob_b, label=\"B\")\n",
    "plt.xlabel(\"Conversion rate\") \n",
    "plt.ylabel(\"Probability\")\n",
    "plt.legend()"
   ]
  },
  {
   "cell_type": "markdown",
   "metadata": {},
   "source": [
    "Since we are interested on the average conversion rate, our approximation is well estimated by a normal distribution. The above plot is showing the probability that the actual conversion rate for A and B was a certain value given the data we collected.\n",
    "\n",
    "For this specific example, the million dollar question is : what is the chance that the CR of group B is higher than the CR of group A. Let's find out by taking the difference of the means ans by summing the variance "
   ]
  },
  {
   "cell_type": "code",
   "execution_count": 145,
   "metadata": {},
   "outputs": [
    {
     "name": "stdout",
     "output_type": "stream",
     "text": [
      "z-score is 2.291, with p-value 0.011\n"
     ]
    },
    {
     "data": {
      "text/plain": [
       "<matplotlib.text.Annotation at 0x29f9334d908>"
      ]
     },
     "execution_count": 145,
     "metadata": {},
     "output_type": "execute_result"
    },
    {
     "data": {
      "image/png": "[encoded data removed]",
      "text/plain": [
       "<matplotlib.figure.Figure at 0x29f92e2ceb8>"
      ]
     },
     "metadata": {},
     "output_type": "display_data"
    }
   ],
   "source": [
    "z_score = (rate_b - rate_a) / np.sqrt(std_a**2 + std_b**2)\n",
    "print(f\"z-score is {z_score:0.3f}, with p-value {stats.norm().sf(z_score):0.3f}\")\n",
    "\n",
    "p = stats.norm(rate_b - rate_a, np.sqrt(std_a**2 + std_b**2))\n",
    "x = np.linspace(-0.05, 0.15, 1000)\n",
    "y = p.pdf(x)\n",
    "area_under_curve = p.sf(0)\n",
    "plt.plot(x, y, label=\"PDF\")\n",
    "plt.fill_between(x, 0, y, where=x>0, label=\"Prob(b>a)\", alpha=0.3)\n",
    "plt.annotate(f\"Area={area_under_curve:0.3f}\", (0.02, 5))"
   ]
  },
  {
   "cell_type": "markdown",
   "metadata": {},
   "source": [
    "Using the frequentist approach we would say that given the null hypothesis (that group B is less then or equal to group A) we would get this result 1% of the time. Since p_value < 5%, the hypothesis is reject => **Group B is performing better than Group A on country 1**"
   ]
  },
  {
   "cell_type": "markdown",
   "metadata": {},
   "source": [
    "Now that we have done it for one country, we will replicate the same strategy for all the others. First let's create a function in order to compute the p-value / confidence "
   ]
  },
  {
   "cell_type": "code",
   "execution_count": 146,
   "metadata": {
    "collapsed": true
   },
   "outputs": [],
   "source": [
    "def get_confidence_ab_test(click_a, num_a, click_b, num_b, type=\"confidence\"):\n",
    "    rate_a = click_a / num_a\n",
    "    rate_b = click_b / num_b\n",
    "    std_a = np.sqrt(rate_a * (1 - rate_a) / num_a)\n",
    "    std_b = np.sqrt(rate_b * (1 - rate_b) / num_b)\n",
    "    z_score = (rate_b - rate_a) / np.sqrt(std_a**2 + std_b**2)\n",
    "    if type == \"confidence\":\n",
    "        return stats.norm.cdf(z_score)\n",
    "    else :\n",
    "        return stats.norm.sf(z_score)"
   ]
  },
  {
   "cell_type": "code",
   "execution_count": 150,
   "metadata": {
    "scrolled": true
   },
   "outputs": [],
   "source": [
    "data_ab[\"confidence\"] = data_ab.apply(lambda x: get_confidence_ab_test(x[\"successes_A\"], \n",
    "                                                                         x[\"trials_A\"], \n",
    "                                                                         x[\"successes_B\"], \n",
    "                                                                         x[\"trials_B\"]), axis=1)\n",
    "\n",
    "data_ab[\"p_value\"] = data_ab.apply(lambda x: get_confidence_ab_test(x[\"successes_A\"], \n",
    "                                                                         x[\"trials_A\"], \n",
    "                                                                         x[\"successes_B\"], \n",
    "                                                                         x[\"trials_B\"],\n",
    "                                                                   type=\"p_value\"), axis=1)\n",
    "\n",
    "data_ab[\"best_group\"] = data_ab.apply(lambda x : \"B\" if x[\"p_value\"]<0.05 else \"A\", axis = 1)"
   ]
  },
  {
   "cell_type": "code",
   "execution_count": 151,
   "metadata": {},
   "outputs": [
    {
     "data": {
      "text/html": [
       "<div>\n",
       "<style scoped>\n",
       "    .dataframe tbody tr th:only-of-type {\n",
       "        vertical-align: middle;\n",
       "    }\n",
       "\n",
       "    .dataframe tbody tr th {\n",
       "        vertical-align: top;\n",
       "    }\n",
       "\n",
       "    .dataframe thead th {\n",
       "        text-align: right;\n",
       "    }\n",
       "</style>\n",
       "<table border=\"1\" class=\"dataframe\">\n",
       "  <thead>\n",
       "    <tr style=\"text-align: right;\">\n",
       "      <th></th>\n",
       "      <th>country</th>\n",
       "      <th>trials_A</th>\n",
       "      <th>successes_A</th>\n",
       "      <th>trials_B</th>\n",
       "      <th>successes_B</th>\n",
       "      <th>conversion_rate_A</th>\n",
       "      <th>conversion_rate_B</th>\n",
       "      <th>confidence</th>\n",
       "      <th>p_value</th>\n",
       "      <th>best_group</th>\n",
       "    </tr>\n",
       "  </thead>\n",
       "  <tbody>\n",
       "    <tr>\n",
       "      <th>0</th>\n",
       "      <td>Country_1</td>\n",
       "      <td>8251</td>\n",
       "      <td>512</td>\n",
       "      <td>1084</td>\n",
       "      <td>89</td>\n",
       "      <td>0.062053</td>\n",
       "      <td>0.082103</td>\n",
       "      <td>0.989025</td>\n",
       "      <td>0.010975</td>\n",
       "      <td>B</td>\n",
       "    </tr>\n",
       "    <tr>\n",
       "      <th>1</th>\n",
       "      <td>Country_2</td>\n",
       "      <td>5604</td>\n",
       "      <td>353</td>\n",
       "      <td>257</td>\n",
       "      <td>17</td>\n",
       "      <td>0.062991</td>\n",
       "      <td>0.066148</td>\n",
       "      <td>0.578994</td>\n",
       "      <td>0.421006</td>\n",
       "      <td>A</td>\n",
       "    </tr>\n",
       "    <tr>\n",
       "      <th>2</th>\n",
       "      <td>Country_3</td>\n",
       "      <td>3252</td>\n",
       "      <td>120</td>\n",
       "      <td>5931</td>\n",
       "      <td>202</td>\n",
       "      <td>0.036900</td>\n",
       "      <td>0.034058</td>\n",
       "      <td>0.241905</td>\n",
       "      <td>0.758095</td>\n",
       "      <td>A</td>\n",
       "    </tr>\n",
       "    <tr>\n",
       "      <th>3</th>\n",
       "      <td>Country_4</td>\n",
       "      <td>4174</td>\n",
       "      <td>138</td>\n",
       "      <td>3758</td>\n",
       "      <td>131</td>\n",
       "      <td>0.033062</td>\n",
       "      <td>0.034859</td>\n",
       "      <td>0.670372</td>\n",
       "      <td>0.329628</td>\n",
       "      <td>A</td>\n",
       "    </tr>\n",
       "    <tr>\n",
       "      <th>4</th>\n",
       "      <td>Country_5</td>\n",
       "      <td>1918</td>\n",
       "      <td>53</td>\n",
       "      <td>3939</td>\n",
       "      <td>94</td>\n",
       "      <td>0.027633</td>\n",
       "      <td>0.023864</td>\n",
       "      <td>0.199220</td>\n",
       "      <td>0.800780</td>\n",
       "      <td>A</td>\n",
       "    </tr>\n",
       "    <tr>\n",
       "      <th>5</th>\n",
       "      <td>Country_6</td>\n",
       "      <td>3731</td>\n",
       "      <td>22</td>\n",
       "      <td>3412</td>\n",
       "      <td>24</td>\n",
       "      <td>0.005897</td>\n",
       "      <td>0.007034</td>\n",
       "      <td>0.725075</td>\n",
       "      <td>0.274925</td>\n",
       "      <td>A</td>\n",
       "    </tr>\n",
       "  </tbody>\n",
       "</table>\n",
       "</div>"
      ],
      "text/plain": [
       "     country  trials_A  successes_A  trials_B  successes_B  conversion_rate_A  \\\n",
       "0  Country_1      8251          512      1084           89           0.062053   \n",
       "1  Country_2      5604          353       257           17           0.062991   \n",
       "2  Country_3      3252          120      5931          202           0.036900   \n",
       "3  Country_4      4174          138      3758          131           0.033062   \n",
       "4  Country_5      1918           53      3939           94           0.027633   \n",
       "5  Country_6      3731           22      3412           24           0.005897   \n",
       "\n",
       "   conversion_rate_B  confidence   p_value best_group  \n",
       "0           0.082103    0.989025  0.010975          B  \n",
       "1           0.066148    0.578994  0.421006          A  \n",
       "2           0.034058    0.241905  0.758095          A  \n",
       "3           0.034859    0.670372  0.329628          A  \n",
       "4           0.023864    0.199220  0.800780          A  \n",
       "5           0.007034    0.725075  0.274925          A  "
      ]
     },
     "execution_count": 151,
     "metadata": {},
     "output_type": "execute_result"
    }
   ],
   "source": [
    "data_ab"
   ]
  },
  {
   "cell_type": "markdown",
   "metadata": {},
   "source": [
    "### Conclusion "
   ]
  },
  {
   "cell_type": "markdown",
   "metadata": {},
   "source": [
    "I would recommend deploying the B version of the website on country 1 and leaving the A version on the other countries "
   ]
  }
 ],
 "metadata": {
  "kernelspec": {
   "display_name": "Python 3",
   "language": "python",
   "name": "python3"
  },
  "language_info": {
   "codemirror_mode": {
    "name": "ipython",
    "version": 3
   },
   "file_extension": ".py",
   "mimetype": "text/x-python",
   "name": "python",
   "nbconvert_exporter": "python",
   "pygments_lexer": "ipython3",
   "version": "3.6.1"
  }
 },
 "nbformat": 4,
 "nbformat_minor": 2
}
