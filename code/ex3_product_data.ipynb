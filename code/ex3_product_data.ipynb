{
 "cells": [
  {
   "cell_type": "markdown",
   "metadata": {},
   "source": [
    "# VC data exploration "
   ]
  },
  {
   "cell_type": "markdown",
   "metadata": {},
   "source": [
    "in this exercise we will deep dive into a dataset of products that were live on the VC website "
   ]
  },
  {
   "cell_type": "markdown",
   "metadata": {},
   "source": [
    "### import packages and read the data "
   ]
  },
  {
   "cell_type": "code",
   "execution_count": 35,
   "metadata": {
    "scrolled": true
   },
   "outputs": [],
   "source": [
    "import pandas as pd\n",
    "import numpy as np\n",
    "import matplotlib.pyplot as plt\n",
    "\n",
    "import scipy\n",
    "import scipy.stats\n",
    "import time\n",
    "\n",
    "from sklearn.model_selection import train_test_split\n",
    "\n",
    "%matplotlib inline "
   ]
  },
  {
   "cell_type": "code",
   "execution_count": 36,
   "metadata": {
    "collapsed": true
   },
   "outputs": [],
   "source": [
    "data_init = pd.read_csv(\"../data/ex3_product_data.csv\")"
   ]
  },
  {
   "cell_type": "code",
   "execution_count": 37,
   "metadata": {
    "collapsed": true
   },
   "outputs": [],
   "source": [
    "data_prod = data_init.copy()"
   ]
  },
  {
   "cell_type": "markdown",
   "metadata": {},
   "source": [
    "let's see what the data look like from up close "
   ]
  },
  {
   "cell_type": "code",
   "execution_count": 38,
   "metadata": {
    "scrolled": false
   },
   "outputs": [
    {
     "data": {
      "text/html": [
       "<div>\n",
       "<style scoped>\n",
       "    .dataframe tbody tr th:only-of-type {\n",
       "        vertical-align: middle;\n",
       "    }\n",
       "\n",
       "    .dataframe tbody tr th {\n",
       "        vertical-align: top;\n",
       "    }\n",
       "\n",
       "    .dataframe thead th {\n",
       "        text-align: right;\n",
       "    }\n",
       "</style>\n",
       "<table border=\"1\" class=\"dataframe\">\n",
       "  <thead>\n",
       "    <tr style=\"text-align: right;\">\n",
       "      <th></th>\n",
       "      <th>category</th>\n",
       "      <th>sub_category</th>\n",
       "      <th>brand</th>\n",
       "      <th>model</th>\n",
       "      <th>material</th>\n",
       "      <th>color</th>\n",
       "      <th>quality</th>\n",
       "      <th>flag</th>\n",
       "      <th>pop1</th>\n",
       "      <th>pop2</th>\n",
       "      <th>time_online</th>\n",
       "      <th>sold</th>\n",
       "      <th>price</th>\n",
       "    </tr>\n",
       "  </thead>\n",
       "  <tbody>\n",
       "    <tr>\n",
       "      <th>0</th>\n",
       "      <td>2.0</td>\n",
       "      <td>21.0</td>\n",
       "      <td>63.0</td>\n",
       "      <td>NaN</td>\n",
       "      <td>8.0</td>\n",
       "      <td>4.0</td>\n",
       "      <td>2.0</td>\n",
       "      <td>1</td>\n",
       "      <td>6</td>\n",
       "      <td>64</td>\n",
       "      <td>10</td>\n",
       "      <td>1</td>\n",
       "      <td>2434.14</td>\n",
       "    </tr>\n",
       "    <tr>\n",
       "      <th>1</th>\n",
       "      <td>2.0</td>\n",
       "      <td>9.0</td>\n",
       "      <td>377.0</td>\n",
       "      <td>NaN</td>\n",
       "      <td>66.0</td>\n",
       "      <td>15.0</td>\n",
       "      <td>2.0</td>\n",
       "      <td>0</td>\n",
       "      <td>0</td>\n",
       "      <td>28</td>\n",
       "      <td>7</td>\n",
       "      <td>1</td>\n",
       "      <td>1833.54</td>\n",
       "    </tr>\n",
       "    <tr>\n",
       "      <th>2</th>\n",
       "      <td>2.0</td>\n",
       "      <td>21.0</td>\n",
       "      <td>499.0</td>\n",
       "      <td>NaN</td>\n",
       "      <td>66.0</td>\n",
       "      <td>15.0</td>\n",
       "      <td>2.0</td>\n",
       "      <td>0</td>\n",
       "      <td>2</td>\n",
       "      <td>42</td>\n",
       "      <td>5</td>\n",
       "      <td>1</td>\n",
       "      <td>2581.95</td>\n",
       "    </tr>\n",
       "    <tr>\n",
       "      <th>3</th>\n",
       "      <td>2.0</td>\n",
       "      <td>45.0</td>\n",
       "      <td>499.0</td>\n",
       "      <td>NaN</td>\n",
       "      <td>25.0</td>\n",
       "      <td>21.0</td>\n",
       "      <td>2.0</td>\n",
       "      <td>0</td>\n",
       "      <td>5</td>\n",
       "      <td>19</td>\n",
       "      <td>429</td>\n",
       "      <td>0</td>\n",
       "      <td>2048.04</td>\n",
       "    </tr>\n",
       "    <tr>\n",
       "      <th>4</th>\n",
       "      <td>2.0</td>\n",
       "      <td>42.0</td>\n",
       "      <td>541.0</td>\n",
       "      <td>NaN</td>\n",
       "      <td>8.0</td>\n",
       "      <td>24.0</td>\n",
       "      <td>2.0</td>\n",
       "      <td>0</td>\n",
       "      <td>5</td>\n",
       "      <td>55</td>\n",
       "      <td>96</td>\n",
       "      <td>1</td>\n",
       "      <td>789.64</td>\n",
       "    </tr>\n",
       "  </tbody>\n",
       "</table>\n",
       "</div>"
      ],
      "text/plain": [
       "   category  sub_category  brand  model  material  color  quality  flag  pop1  \\\n",
       "0       2.0          21.0   63.0    NaN       8.0    4.0      2.0     1     6   \n",
       "1       2.0           9.0  377.0    NaN      66.0   15.0      2.0     0     0   \n",
       "2       2.0          21.0  499.0    NaN      66.0   15.0      2.0     0     2   \n",
       "3       2.0          45.0  499.0    NaN      25.0   21.0      2.0     0     5   \n",
       "4       2.0          42.0  541.0    NaN       8.0   24.0      2.0     0     5   \n",
       "\n",
       "   pop2  time_online  sold    price  \n",
       "0    64           10     1  2434.14  \n",
       "1    28            7     1  1833.54  \n",
       "2    42            5     1  2581.95  \n",
       "3    19          429     0  2048.04  \n",
       "4    55           96     1   789.64  "
      ]
     },
     "execution_count": 38,
     "metadata": {},
     "output_type": "execute_result"
    }
   ],
   "source": [
    "data_prod.head()"
   ]
  },
  {
   "cell_type": "code",
   "execution_count": 39,
   "metadata": {},
   "outputs": [
    {
     "data": {
      "text/plain": [
       "category         0.000000\n",
       "sub_category     0.000000\n",
       "brand            0.000000\n",
       "model           94.927348\n",
       "material         0.004093\n",
       "color            0.017737\n",
       "quality          0.000000\n",
       "flag             0.000000\n",
       "pop1             0.000000\n",
       "pop2             0.000000\n",
       "time_online      0.000000\n",
       "sold             0.000000\n",
       "price            0.000000\n",
       "dtype: float64"
      ]
     },
     "execution_count": 39,
     "metadata": {},
     "output_type": "execute_result"
    }
   ],
   "source": [
    "data_prod.isnull().sum() / data_prod.shape[0] * 100"
   ]
  },
  {
   "cell_type": "markdown",
   "metadata": {},
   "source": [
    "There are a lot of missing values ont the model feature (94%)"
   ]
  },
  {
   "cell_type": "code",
   "execution_count": 7,
   "metadata": {
    "scrolled": false
   },
   "outputs": [
    {
     "data": {
      "text/html": [
       "<div>\n",
       "<style scoped>\n",
       "    .dataframe tbody tr th:only-of-type {\n",
       "        vertical-align: middle;\n",
       "    }\n",
       "\n",
       "    .dataframe tbody tr th {\n",
       "        vertical-align: top;\n",
       "    }\n",
       "\n",
       "    .dataframe thead th {\n",
       "        text-align: right;\n",
       "    }\n",
       "</style>\n",
       "<table border=\"1\" class=\"dataframe\">\n",
       "  <thead>\n",
       "    <tr style=\"text-align: right;\">\n",
       "      <th></th>\n",
       "      <th>category</th>\n",
       "      <th>sub_category</th>\n",
       "      <th>brand</th>\n",
       "      <th>model</th>\n",
       "      <th>material</th>\n",
       "      <th>color</th>\n",
       "      <th>quality</th>\n",
       "      <th>flag</th>\n",
       "      <th>pop1</th>\n",
       "      <th>pop2</th>\n",
       "      <th>time_online</th>\n",
       "      <th>sold</th>\n",
       "      <th>price</th>\n",
       "    </tr>\n",
       "  </thead>\n",
       "  <tbody>\n",
       "    <tr>\n",
       "      <th>count</th>\n",
       "      <td>73295.000000</td>\n",
       "      <td>73295.000000</td>\n",
       "      <td>73295.000000</td>\n",
       "      <td>3718.000000</td>\n",
       "      <td>73292.000000</td>\n",
       "      <td>73282.000000</td>\n",
       "      <td>73295.000000</td>\n",
       "      <td>73295.000000</td>\n",
       "      <td>73295.000000</td>\n",
       "      <td>73295.000000</td>\n",
       "      <td>73295.000000</td>\n",
       "      <td>73295.000000</td>\n",
       "      <td>73295.000000</td>\n",
       "    </tr>\n",
       "    <tr>\n",
       "      <th>mean</th>\n",
       "      <td>2.292162</td>\n",
       "      <td>26.686227</td>\n",
       "      <td>570.127676</td>\n",
       "      <td>93.183701</td>\n",
       "      <td>33.796785</td>\n",
       "      <td>10.051431</td>\n",
       "      <td>1.760106</td>\n",
       "      <td>0.035350</td>\n",
       "      <td>7.220111</td>\n",
       "      <td>67.683907</td>\n",
       "      <td>253.693294</td>\n",
       "      <td>0.630275</td>\n",
       "      <td>2405.763657</td>\n",
       "    </tr>\n",
       "    <tr>\n",
       "      <th>std</th>\n",
       "      <td>1.116533</td>\n",
       "      <td>17.198274</td>\n",
       "      <td>303.366991</td>\n",
       "      <td>59.364466</td>\n",
       "      <td>20.249989</td>\n",
       "      <td>7.461880</td>\n",
       "      <td>0.465190</td>\n",
       "      <td>0.184665</td>\n",
       "      <td>8.702356</td>\n",
       "      <td>66.908734</td>\n",
       "      <td>245.221178</td>\n",
       "      <td>0.482733</td>\n",
       "      <td>2909.506660</td>\n",
       "    </tr>\n",
       "    <tr>\n",
       "      <th>min</th>\n",
       "      <td>0.000000</td>\n",
       "      <td>0.000000</td>\n",
       "      <td>0.000000</td>\n",
       "      <td>0.000000</td>\n",
       "      <td>0.000000</td>\n",
       "      <td>0.000000</td>\n",
       "      <td>0.000000</td>\n",
       "      <td>0.000000</td>\n",
       "      <td>0.000000</td>\n",
       "      <td>1.000000</td>\n",
       "      <td>0.000000</td>\n",
       "      <td>0.000000</td>\n",
       "      <td>225.210000</td>\n",
       "    </tr>\n",
       "    <tr>\n",
       "      <th>25%</th>\n",
       "      <td>2.000000</td>\n",
       "      <td>11.000000</td>\n",
       "      <td>315.000000</td>\n",
       "      <td>38.000000</td>\n",
       "      <td>20.000000</td>\n",
       "      <td>3.000000</td>\n",
       "      <td>2.000000</td>\n",
       "      <td>0.000000</td>\n",
       "      <td>2.000000</td>\n",
       "      <td>28.000000</td>\n",
       "      <td>18.000000</td>\n",
       "      <td>0.000000</td>\n",
       "      <td>1075.640000</td>\n",
       "    </tr>\n",
       "    <tr>\n",
       "      <th>50%</th>\n",
       "      <td>2.000000</td>\n",
       "      <td>21.000000</td>\n",
       "      <td>541.000000</td>\n",
       "      <td>81.000000</td>\n",
       "      <td>28.000000</td>\n",
       "      <td>8.000000</td>\n",
       "      <td>2.000000</td>\n",
       "      <td>0.000000</td>\n",
       "      <td>5.000000</td>\n",
       "      <td>48.000000</td>\n",
       "      <td>154.000000</td>\n",
       "      <td>1.000000</td>\n",
       "      <td>1719.140000</td>\n",
       "    </tr>\n",
       "    <tr>\n",
       "      <th>75%</th>\n",
       "      <td>3.000000</td>\n",
       "      <td>44.000000</td>\n",
       "      <td>852.000000</td>\n",
       "      <td>149.000000</td>\n",
       "      <td>55.000000</td>\n",
       "      <td>16.000000</td>\n",
       "      <td>2.000000</td>\n",
       "      <td>0.000000</td>\n",
       "      <td>9.000000</td>\n",
       "      <td>83.000000</td>\n",
       "      <td>477.000000</td>\n",
       "      <td>1.000000</td>\n",
       "      <td>2795.510000</td>\n",
       "    </tr>\n",
       "    <tr>\n",
       "      <th>max</th>\n",
       "      <td>4.000000</td>\n",
       "      <td>58.000000</td>\n",
       "      <td>1099.000000</td>\n",
       "      <td>216.000000</td>\n",
       "      <td>68.000000</td>\n",
       "      <td>25.000000</td>\n",
       "      <td>2.000000</td>\n",
       "      <td>1.000000</td>\n",
       "      <td>212.000000</td>\n",
       "      <td>1374.000000</td>\n",
       "      <td>728.000000</td>\n",
       "      <td>1.000000</td>\n",
       "      <td>243103.140000</td>\n",
       "    </tr>\n",
       "  </tbody>\n",
       "</table>\n",
       "</div>"
      ],
      "text/plain": [
       "           category  sub_category         brand        model      material  \\\n",
       "count  73295.000000  73295.000000  73295.000000  3718.000000  73292.000000   \n",
       "mean       2.292162     26.686227    570.127676    93.183701     33.796785   \n",
       "std        1.116533     17.198274    303.366991    59.364466     20.249989   \n",
       "min        0.000000      0.000000      0.000000     0.000000      0.000000   \n",
       "25%        2.000000     11.000000    315.000000    38.000000     20.000000   \n",
       "50%        2.000000     21.000000    541.000000    81.000000     28.000000   \n",
       "75%        3.000000     44.000000    852.000000   149.000000     55.000000   \n",
       "max        4.000000     58.000000   1099.000000   216.000000     68.000000   \n",
       "\n",
       "              color       quality          flag          pop1          pop2  \\\n",
       "count  73282.000000  73295.000000  73295.000000  73295.000000  73295.000000   \n",
       "mean      10.051431      1.760106      0.035350      7.220111     67.683907   \n",
       "std        7.461880      0.465190      0.184665      8.702356     66.908734   \n",
       "min        0.000000      0.000000      0.000000      0.000000      1.000000   \n",
       "25%        3.000000      2.000000      0.000000      2.000000     28.000000   \n",
       "50%        8.000000      2.000000      0.000000      5.000000     48.000000   \n",
       "75%       16.000000      2.000000      0.000000      9.000000     83.000000   \n",
       "max       25.000000      2.000000      1.000000    212.000000   1374.000000   \n",
       "\n",
       "        time_online          sold          price  \n",
       "count  73295.000000  73295.000000   73295.000000  \n",
       "mean     253.693294      0.630275    2405.763657  \n",
       "std      245.221178      0.482733    2909.506660  \n",
       "min        0.000000      0.000000     225.210000  \n",
       "25%       18.000000      0.000000    1075.640000  \n",
       "50%      154.000000      1.000000    1719.140000  \n",
       "75%      477.000000      1.000000    2795.510000  \n",
       "max      728.000000      1.000000  243103.140000  "
      ]
     },
     "execution_count": 7,
     "metadata": {},
     "output_type": "execute_result"
    }
   ],
   "source": [
    "data_prod.describe()"
   ]
  },
  {
   "cell_type": "code",
   "execution_count": 8,
   "metadata": {},
   "outputs": [
    {
     "data": {
      "text/plain": [
       "<Figure size 1152x576 with 0 Axes>"
      ]
     },
     "metadata": {},
     "output_type": "display_data"
    },
    {
     "data": {
      "image/png": "[encoded data removed]",
      "text/plain": [
       "<Figure size 432x288 with 1 Axes>"
      ]
     },
     "metadata": {},
     "output_type": "display_data"
    }
   ],
   "source": [
    "categ = data_prod.groupby(\"category\").agg({\"price\":\"count\"}).reset_index()\n",
    "categ.columns = [\"category\",\"count\"]\n",
    "\n",
    "plt.figure(figsize=(16,8))\n",
    "categ.plot.bar(x=\"category\", y=\"count\")\n",
    "plt.title(\"Categories volume\")\n",
    "plt.show()"
   ]
  },
  {
   "cell_type": "code",
   "execution_count": 9,
   "metadata": {},
   "outputs": [
    {
     "data": {
      "text/html": [
       "<div>\n",
       "<style scoped>\n",
       "    .dataframe tbody tr th:only-of-type {\n",
       "        vertical-align: middle;\n",
       "    }\n",
       "\n",
       "    .dataframe tbody tr th {\n",
       "        vertical-align: top;\n",
       "    }\n",
       "\n",
       "    .dataframe thead th {\n",
       "        text-align: right;\n",
       "    }\n",
       "</style>\n",
       "<table border=\"1\" class=\"dataframe\">\n",
       "  <thead>\n",
       "    <tr style=\"text-align: right;\">\n",
       "      <th></th>\n",
       "      <th>category</th>\n",
       "      <th>count</th>\n",
       "    </tr>\n",
       "  </thead>\n",
       "  <tbody>\n",
       "    <tr>\n",
       "      <th>0</th>\n",
       "      <td>0.0</td>\n",
       "      <td>4508</td>\n",
       "    </tr>\n",
       "    <tr>\n",
       "      <th>1</th>\n",
       "      <td>1.0</td>\n",
       "      <td>7445</td>\n",
       "    </tr>\n",
       "    <tr>\n",
       "      <th>2</th>\n",
       "      <td>2.0</td>\n",
       "      <td>40605</td>\n",
       "    </tr>\n",
       "    <tr>\n",
       "      <th>3</th>\n",
       "      <td>3.0</td>\n",
       "      <td>3599</td>\n",
       "    </tr>\n",
       "    <tr>\n",
       "      <th>4</th>\n",
       "      <td>4.0</td>\n",
       "      <td>17138</td>\n",
       "    </tr>\n",
       "  </tbody>\n",
       "</table>\n",
       "</div>"
      ],
      "text/plain": [
       "   category  count\n",
       "0       0.0   4508\n",
       "1       1.0   7445\n",
       "2       2.0  40605\n",
       "3       3.0   3599\n",
       "4       4.0  17138"
      ]
     },
     "execution_count": 9,
     "metadata": {},
     "output_type": "execute_result"
    }
   ],
   "source": [
    "categ"
   ]
  },
  {
   "cell_type": "code",
   "execution_count": 10,
   "metadata": {},
   "outputs": [
    {
     "data": {
      "text/plain": [
       "sold\n",
       "0    27099\n",
       "1    46196\n",
       "Name: sold, dtype: int64"
      ]
     },
     "execution_count": 10,
     "metadata": {},
     "output_type": "execute_result"
    }
   ],
   "source": [
    "data_prod.groupby(\"sold\").sold.count()"
   ]
  },
  {
   "cell_type": "markdown",
   "metadata": {},
   "source": [
    "### Distribution of the time to sell"
   ]
  },
  {
   "cell_type": "markdown",
   "metadata": {},
   "source": [
    "Before plotting the distribution, we will first see when the products are mostly sold in terms of quantity and in terms of price "
   ]
  },
  {
   "cell_type": "code",
   "execution_count": 11,
   "metadata": {
    "scrolled": true
   },
   "outputs": [
    {
     "data": {
      "text/html": [
       "<div>\n",
       "<style scoped>\n",
       "    .dataframe tbody tr th:only-of-type {\n",
       "        vertical-align: middle;\n",
       "    }\n",
       "\n",
       "    .dataframe tbody tr th {\n",
       "        vertical-align: top;\n",
       "    }\n",
       "\n",
       "    .dataframe thead th {\n",
       "        text-align: right;\n",
       "    }\n",
       "</style>\n",
       "<table border=\"1\" class=\"dataframe\">\n",
       "  <thead>\n",
       "    <tr style=\"text-align: right;\">\n",
       "      <th></th>\n",
       "      <th>time_online</th>\n",
       "      <th>category</th>\n",
       "      <th>price</th>\n",
       "      <th>mean_price</th>\n",
       "    </tr>\n",
       "  </thead>\n",
       "  <tbody>\n",
       "    <tr>\n",
       "      <th>0</th>\n",
       "      <td>1</td>\n",
       "      <td>2982</td>\n",
       "      <td>8295020.05</td>\n",
       "      <td>2781.696865</td>\n",
       "    </tr>\n",
       "    <tr>\n",
       "      <th>1</th>\n",
       "      <td>0</td>\n",
       "      <td>2276</td>\n",
       "      <td>6178483.46</td>\n",
       "      <td>2714.623664</td>\n",
       "    </tr>\n",
       "    <tr>\n",
       "      <th>2</th>\n",
       "      <td>2</td>\n",
       "      <td>1748</td>\n",
       "      <td>4554090.81</td>\n",
       "      <td>2605.315109</td>\n",
       "    </tr>\n",
       "    <tr>\n",
       "      <th>3</th>\n",
       "      <td>3</td>\n",
       "      <td>1498</td>\n",
       "      <td>3717933.63</td>\n",
       "      <td>2481.931662</td>\n",
       "    </tr>\n",
       "    <tr>\n",
       "      <th>4</th>\n",
       "      <td>4</td>\n",
       "      <td>1240</td>\n",
       "      <td>3000876.87</td>\n",
       "      <td>2420.061992</td>\n",
       "    </tr>\n",
       "    <tr>\n",
       "      <th>5</th>\n",
       "      <td>5</td>\n",
       "      <td>1055</td>\n",
       "      <td>2465137.72</td>\n",
       "      <td>2336.623431</td>\n",
       "    </tr>\n",
       "    <tr>\n",
       "      <th>6</th>\n",
       "      <td>6</td>\n",
       "      <td>958</td>\n",
       "      <td>2385338.53</td>\n",
       "      <td>2489.914958</td>\n",
       "    </tr>\n",
       "    <tr>\n",
       "      <th>7</th>\n",
       "      <td>7</td>\n",
       "      <td>870</td>\n",
       "      <td>2151786.79</td>\n",
       "      <td>2473.318149</td>\n",
       "    </tr>\n",
       "    <tr>\n",
       "      <th>8</th>\n",
       "      <td>8</td>\n",
       "      <td>836</td>\n",
       "      <td>2083218.33</td>\n",
       "      <td>2491.887955</td>\n",
       "    </tr>\n",
       "    <tr>\n",
       "      <th>9</th>\n",
       "      <td>9</td>\n",
       "      <td>752</td>\n",
       "      <td>1863069.35</td>\n",
       "      <td>2477.485838</td>\n",
       "    </tr>\n",
       "  </tbody>\n",
       "</table>\n",
       "</div>"
      ],
      "text/plain": [
       "   time_online  category       price   mean_price\n",
       "0            1      2982  8295020.05  2781.696865\n",
       "1            0      2276  6178483.46  2714.623664\n",
       "2            2      1748  4554090.81  2605.315109\n",
       "3            3      1498  3717933.63  2481.931662\n",
       "4            4      1240  3000876.87  2420.061992\n",
       "5            5      1055  2465137.72  2336.623431\n",
       "6            6       958  2385338.53  2489.914958\n",
       "7            7       870  2151786.79  2473.318149\n",
       "8            8       836  2083218.33  2491.887955\n",
       "9            9       752  1863069.35  2477.485838"
      ]
     },
     "execution_count": 11,
     "metadata": {},
     "output_type": "execute_result"
    }
   ],
   "source": [
    "analysis = (data_prod[data_prod[\"sold\"] == 1].groupby(\"time_online\")\n",
    "                                             .agg({\"category\":\"count\", \"price\":\"sum\"})\n",
    "                                             .sort_values(\"category\", ascending=False)\n",
    "                                             .reset_index()\n",
    "                                             .head(10))\n",
    "\n",
    "analysis[\"mean_price\"] = analysis[\"price\"] / analysis[\"category\"]\n",
    "\n",
    "analysis"
   ]
  },
  {
   "cell_type": "markdown",
   "metadata": {},
   "source": [
    "In order to plot the distribution of the time to sell, we need to remove the noise and focus on only the product that have been sold "
   ]
  },
  {
   "cell_type": "code",
   "execution_count": 12,
   "metadata": {
    "scrolled": false
   },
   "outputs": [
    {
     "data": {
      "image/png": "[encoded data removed]",
      "text/plain": [
       "<Figure size 1152x576 with 1 Axes>"
      ]
     },
     "metadata": {},
     "output_type": "display_data"
    }
   ],
   "source": [
    "data_to_hist = data_prod[data_prod[\"sold\"] == 1][\"time_online\"]\n",
    "\n",
    "bins=500\n",
    "\n",
    "y, x = np.histogram(data_to_hist, bins=bins, density=True)\n",
    "\n",
    "plt.figure(figsize=(16,8))\n",
    "plt.hist(data_to_hist, bins=500)\n",
    "plt.title(\"Distribution of the time to sell\")\n",
    "plt.show()"
   ]
  },
  {
   "cell_type": "markdown",
   "metadata": {},
   "source": [
    "We can notice that most of the products are sold on the first days. Now let's fit an appropriate distribution using scipy and by testing many distribution and selecting the best one \n"
   ]
  },
  {
   "cell_type": "code",
   "execution_count": 13,
   "metadata": {
    "collapsed": true
   },
   "outputs": [],
   "source": [
    "class Apropriate_dist():\n",
    "    def __init__(self, best_dist):\n",
    "        self.name = best_dist[4]\n",
    "        self.pdf = best_dist[0]\n",
    "        self.loc = best_dist[1]\n",
    "        self.scale = best_dist[2]\n",
    "        self.arg = best_dist[3]\n",
    "        self.x = best_dist[5]\n",
    "        self.y = best_dist[6]\n",
    "\n",
    "def fit_appropriate_dist(data, bins=1000):\n",
    "    dist_names = ['gamma', 'pareto', 't', 'lognorm', 'invgamma', 'invgauss',  'loggamma', 'alpha', 'chi', 'chi2']\n",
    "\n",
    "    sse = np.inf\n",
    "    sse_thr = 0.10\n",
    "    \n",
    "    y, x = np.histogram(data_to_hist, bins=bins, density=True)\n",
    "    \n",
    "    x = x[1:]\n",
    "    # for each distribution\n",
    "    for name in dist_names:\n",
    "        # modelize\n",
    "        dist = getattr(scipy.stats, name)\n",
    "        param = dist.fit(data)\n",
    "\n",
    "        # parameters\n",
    "        loc = param[-2] # mean\n",
    "        scale = param[-1] # std\n",
    "        arg = param[:-2]\n",
    "\n",
    "        # PDF\n",
    "        pdf = dist.pdf(x, *arg, loc=loc, scale=scale)\n",
    "\n",
    "        # SSE\n",
    "        model_sse = np.sum((y - pdf)**2)\n",
    "        \n",
    "        # if the SSE decrease, save the model \n",
    "        if model_sse < sse :\n",
    "            best_pdf = pdf\n",
    "            sse = model_sse\n",
    "            best_loc = loc\n",
    "            best_scale = scale\n",
    "            best_arg = arg\n",
    "            best_name = name\n",
    "\n",
    "        # if below threshold, break !\n",
    "        if model_sse < sse_thr :\n",
    "            return [best_pdf, best_loc, best_scale, best_arg, best_name, x, y]"
   ]
  },
  {
   "cell_type": "code",
   "execution_count": 14,
   "metadata": {
    "collapsed": true
   },
   "outputs": [],
   "source": [
    "best_dist = Apropriate_dist(fit_appropriate_dist(data_to_hist))"
   ]
  },
  {
   "cell_type": "code",
   "execution_count": 15,
   "metadata": {},
   "outputs": [
    {
     "data": {
      "image/png": "[encoded data removed]",
      "text/plain": [
       "<Figure size 1152x576 with 1 Axes>"
      ]
     },
     "metadata": {},
     "output_type": "display_data"
    },
    {
     "name": "stdout",
     "output_type": "stream",
     "text": [
      "Selected Model :  gamma\n",
      "Loc. param. :  -3.284604203569409e-29\n",
      "Scale param. :  116.66799188922289\n",
      "Other arguments :  (0.46930069453591816,)\n"
     ]
    }
   ],
   "source": [
    "plt.figure(figsize=(16,8))\n",
    "plt.plot(best_dist.x, best_dist.y, label=\"Données\")\n",
    "plt.plot(best_dist.x, best_dist.pdf, label=best_dist.name, linewidth=3)\n",
    "plt.legend(loc='upper right')\n",
    "plt.show()\n",
    "\n",
    "# some details about the selected distribution law\n",
    "print(\"Selected Model : \", best_dist.name)\n",
    "print(\"Loc. param. : \", best_dist.loc)\n",
    "print(\"Scale param. : \", best_dist.scale)\n",
    "print(\"Other arguments : \", best_dist.arg)\n",
    "# print(\"SSE : \", sse)"
   ]
  },
  {
   "cell_type": "markdown",
   "metadata": {},
   "source": [
    "The best distribution law for the time to sell variable is the gamma law "
   ]
  },
  {
   "cell_type": "markdown",
   "metadata": {},
   "source": [
    "### Sell rate at 30 days "
   ]
  },
  {
   "cell_type": "markdown",
   "metadata": {},
   "source": [
    "The sell rate is the amount of product sold on the total amount of products. In our case, we need to create a column \"sold in 30 days\" in order to diferentiate the different products"
   ]
  },
  {
   "cell_type": "code",
   "execution_count": 40,
   "metadata": {
    "collapsed": true
   },
   "outputs": [],
   "source": [
    "data_prod[\"sold_in_30_days\"] = data_prod.apply(lambda x: True if x[\"sold\"] == 1 and x[\"time_online\"]<=30 else False, axis=1)"
   ]
  },
  {
   "cell_type": "code",
   "execution_count": 41,
   "metadata": {
    "collapsed": true
   },
   "outputs": [],
   "source": [
    "anaylse_sell_rate = data_prod.groupby([\"category\",\"sold_in_30_days\"]).brand.count().reset_index()"
   ]
  },
  {
   "cell_type": "code",
   "execution_count": 42,
   "metadata": {
    "scrolled": true
   },
   "outputs": [
    {
     "data": {
      "text/html": [
       "<div>\n",
       "<style scoped>\n",
       "    .dataframe tbody tr th:only-of-type {\n",
       "        vertical-align: middle;\n",
       "    }\n",
       "\n",
       "    .dataframe tbody tr th {\n",
       "        vertical-align: top;\n",
       "    }\n",
       "\n",
       "    .dataframe thead th {\n",
       "        text-align: right;\n",
       "    }\n",
       "</style>\n",
       "<table border=\"1\" class=\"dataframe\">\n",
       "  <thead>\n",
       "    <tr style=\"text-align: right;\">\n",
       "      <th>sold_in_30_days</th>\n",
       "      <th>category</th>\n",
       "      <th>False</th>\n",
       "      <th>True</th>\n",
       "      <th>sell_rate</th>\n",
       "    </tr>\n",
       "  </thead>\n",
       "  <tbody>\n",
       "    <tr>\n",
       "      <th>3</th>\n",
       "      <td>3.0</td>\n",
       "      <td>2155</td>\n",
       "      <td>1444</td>\n",
       "      <td>40.122256</td>\n",
       "    </tr>\n",
       "    <tr>\n",
       "      <th>1</th>\n",
       "      <td>1.0</td>\n",
       "      <td>4547</td>\n",
       "      <td>2898</td>\n",
       "      <td>38.925453</td>\n",
       "    </tr>\n",
       "    <tr>\n",
       "      <th>0</th>\n",
       "      <td>0.0</td>\n",
       "      <td>3035</td>\n",
       "      <td>1473</td>\n",
       "      <td>32.675244</td>\n",
       "    </tr>\n",
       "    <tr>\n",
       "      <th>4</th>\n",
       "      <td>4.0</td>\n",
       "      <td>12142</td>\n",
       "      <td>4996</td>\n",
       "      <td>29.151593</td>\n",
       "    </tr>\n",
       "    <tr>\n",
       "      <th>2</th>\n",
       "      <td>2.0</td>\n",
       "      <td>28815</td>\n",
       "      <td>11790</td>\n",
       "      <td>29.035833</td>\n",
       "    </tr>\n",
       "  </tbody>\n",
       "</table>\n",
       "</div>"
      ],
      "text/plain": [
       "sold_in_30_days  category  False   True  sell_rate\n",
       "3                     3.0   2155   1444  40.122256\n",
       "1                     1.0   4547   2898  38.925453\n",
       "0                     0.0   3035   1473  32.675244\n",
       "4                     4.0  12142   4996  29.151593\n",
       "2                     2.0  28815  11790  29.035833"
      ]
     },
     "execution_count": 42,
     "metadata": {},
     "output_type": "execute_result"
    }
   ],
   "source": [
    "anaylse_sell_rate = pd.pivot_table(anaylse_sell_rate, values='brand', index=[\"category\"], columns=[\"sold_in_30_days\"], aggfunc=np.sum).reset_index()\n",
    "anaylse_sell_rate[\"sell_rate\"] = anaylse_sell_rate[True] / (anaylse_sell_rate[False] + anaylse_sell_rate[True]) * 100\n",
    "\n",
    "anaylse_sell_rate.sort_values(\"sell_rate\", ascending=False)"
   ]
  },
  {
   "cell_type": "markdown",
   "metadata": {},
   "source": [
    "We notice that the category that has the most seeling rate is the 3rd category with 40% of the products sold within 30 days "
   ]
  },
  {
   "cell_type": "code",
   "execution_count": 43,
   "metadata": {
    "scrolled": false
   },
   "outputs": [
    {
     "data": {
      "text/html": [
       "<div>\n",
       "<style scoped>\n",
       "    .dataframe tbody tr th:only-of-type {\n",
       "        vertical-align: middle;\n",
       "    }\n",
       "\n",
       "    .dataframe tbody tr th {\n",
       "        vertical-align: top;\n",
       "    }\n",
       "\n",
       "    .dataframe thead th {\n",
       "        text-align: right;\n",
       "    }\n",
       "</style>\n",
       "<table border=\"1\" class=\"dataframe\">\n",
       "  <thead>\n",
       "    <tr style=\"text-align: right;\">\n",
       "      <th></th>\n",
       "      <th>category</th>\n",
       "      <th>sold</th>\n",
       "      <th>brand</th>\n",
       "    </tr>\n",
       "  </thead>\n",
       "  <tbody>\n",
       "    <tr>\n",
       "      <th>0</th>\n",
       "      <td>0.0</td>\n",
       "      <td>1</td>\n",
       "      <td>1459</td>\n",
       "    </tr>\n",
       "    <tr>\n",
       "      <th>1</th>\n",
       "      <td>1.0</td>\n",
       "      <td>1</td>\n",
       "      <td>2863</td>\n",
       "    </tr>\n",
       "    <tr>\n",
       "      <th>2</th>\n",
       "      <td>2.0</td>\n",
       "      <td>1</td>\n",
       "      <td>11663</td>\n",
       "    </tr>\n",
       "    <tr>\n",
       "      <th>3</th>\n",
       "      <td>3.0</td>\n",
       "      <td>1</td>\n",
       "      <td>1421</td>\n",
       "    </tr>\n",
       "    <tr>\n",
       "      <th>4</th>\n",
       "      <td>4.0</td>\n",
       "      <td>1</td>\n",
       "      <td>4945</td>\n",
       "    </tr>\n",
       "  </tbody>\n",
       "</table>\n",
       "</div>"
      ],
      "text/plain": [
       "   category  sold  brand\n",
       "0       0.0     1   1459\n",
       "1       1.0     1   2863\n",
       "2       2.0     1  11663\n",
       "3       3.0     1   1421\n",
       "4       4.0     1   4945"
      ]
     },
     "execution_count": 43,
     "metadata": {},
     "output_type": "execute_result"
    }
   ],
   "source": [
    "data_prod[data_prod[\"time_online\"] < 30].groupby([\"category\",\"sold\"]).brand.count().reset_index()"
   ]
  },
  {
   "cell_type": "markdown",
   "metadata": {},
   "source": [
    "### The 5 most  expensive brands"
   ]
  },
  {
   "cell_type": "code",
   "execution_count": 44,
   "metadata": {
    "scrolled": true
   },
   "outputs": [
    {
     "data": {
      "text/html": [
       "<div>\n",
       "<style scoped>\n",
       "    .dataframe tbody tr th:only-of-type {\n",
       "        vertical-align: middle;\n",
       "    }\n",
       "\n",
       "    .dataframe tbody tr th {\n",
       "        vertical-align: top;\n",
       "    }\n",
       "\n",
       "    .dataframe thead th {\n",
       "        text-align: right;\n",
       "    }\n",
       "</style>\n",
       "<table border=\"1\" class=\"dataframe\">\n",
       "  <thead>\n",
       "    <tr style=\"text-align: right;\">\n",
       "      <th></th>\n",
       "      <th>price</th>\n",
       "    </tr>\n",
       "    <tr>\n",
       "      <th>brand</th>\n",
       "      <th></th>\n",
       "    </tr>\n",
       "  </thead>\n",
       "  <tbody>\n",
       "    <tr>\n",
       "      <th>642.0</th>\n",
       "      <td>75793.140</td>\n",
       "    </tr>\n",
       "    <tr>\n",
       "      <th>587.0</th>\n",
       "      <td>65894.170</td>\n",
       "    </tr>\n",
       "    <tr>\n",
       "      <th>747.0</th>\n",
       "      <td>51483.140</td>\n",
       "    </tr>\n",
       "    <tr>\n",
       "      <th>864.0</th>\n",
       "      <td>41915.725</td>\n",
       "    </tr>\n",
       "    <tr>\n",
       "      <th>929.0</th>\n",
       "      <td>34323.140</td>\n",
       "    </tr>\n",
       "  </tbody>\n",
       "</table>\n",
       "</div>"
      ],
      "text/plain": [
       "           price\n",
       "brand           \n",
       "642.0  75793.140\n",
       "587.0  65894.170\n",
       "747.0  51483.140\n",
       "864.0  41915.725\n",
       "929.0  34323.140"
      ]
     },
     "execution_count": 44,
     "metadata": {},
     "output_type": "execute_result"
    }
   ],
   "source": [
    "data_prod.groupby(\"brand\").agg({\"price\":\"mean\"}).sort_values(\"price\", ascending=False).head(5)"
   ]
  },
  {
   "cell_type": "markdown",
   "metadata": {},
   "source": [
    "The 642 is way too expensive !! it must be **GUCCI** "
   ]
  },
  {
   "cell_type": "code",
   "execution_count": 45,
   "metadata": {
    "scrolled": false
   },
   "outputs": [
    {
     "data": {
      "text/html": [
       "<div>\n",
       "<style scoped>\n",
       "    .dataframe tbody tr th:only-of-type {\n",
       "        vertical-align: middle;\n",
       "    }\n",
       "\n",
       "    .dataframe tbody tr th {\n",
       "        vertical-align: top;\n",
       "    }\n",
       "\n",
       "    .dataframe thead th {\n",
       "        text-align: right;\n",
       "    }\n",
       "</style>\n",
       "<table border=\"1\" class=\"dataframe\">\n",
       "  <thead>\n",
       "    <tr style=\"text-align: right;\">\n",
       "      <th></th>\n",
       "      <th>category</th>\n",
       "      <th>time_online</th>\n",
       "    </tr>\n",
       "    <tr>\n",
       "      <th>sold</th>\n",
       "      <th></th>\n",
       "      <th></th>\n",
       "    </tr>\n",
       "  </thead>\n",
       "  <tbody>\n",
       "    <tr>\n",
       "      <th>0</th>\n",
       "      <td>27099</td>\n",
       "      <td>728</td>\n",
       "    </tr>\n",
       "    <tr>\n",
       "      <th>1</th>\n",
       "      <td>46196</td>\n",
       "      <td>723</td>\n",
       "    </tr>\n",
       "  </tbody>\n",
       "</table>\n",
       "</div>"
      ],
      "text/plain": [
       "      category  time_online\n",
       "sold                       \n",
       "0        27099          728\n",
       "1        46196          723"
      ]
     },
     "execution_count": 45,
     "metadata": {},
     "output_type": "execute_result"
    }
   ],
   "source": [
    "data_prod.groupby(\"sold\").agg({\"category\":\"count\", \"time_online\":\"max\"})"
   ]
  },
  {
   "cell_type": "markdown",
   "metadata": {},
   "source": [
    "### Price estimation "
   ]
  },
  {
   "cell_type": "markdown",
   "metadata": {},
   "source": [
    "Before beginning to clean our data let's have a look at our price distribution"
   ]
  },
  {
   "cell_type": "code",
   "execution_count": 46,
   "metadata": {},
   "outputs": [
    {
     "data": {
      "image/png": "[encoded data removed]",
      "text/plain": [
       "<Figure size 1152x576 with 1 Axes>"
      ]
     },
     "metadata": {},
     "output_type": "display_data"
    }
   ],
   "source": [
    "data_price = data_prod[data_prod[\"sold\"] == 1][\"price\"]\n",
    "\n",
    "plt.figure(figsize=(16,8))\n",
    "plt.hist(data_price, bins=500)\n",
    "plt.title(\"Distribution the price\")\n",
    "plt.show()"
   ]
  },
  {
   "cell_type": "code",
   "execution_count": 47,
   "metadata": {
    "scrolled": true
   },
   "outputs": [
    {
     "data": {
      "image/png": "[encoded data removed]",
      "text/plain": [
       "<Figure size 1152x576 with 1 Axes>"
      ]
     },
     "metadata": {},
     "output_type": "display_data"
    }
   ],
   "source": [
    "plt.figure(figsize=(16,8))\n",
    "plt.boxplot(data_price[data_price<5000])\n",
    "plt.title(\"Distribution the price\")\n",
    "plt.show()"
   ]
  },
  {
   "cell_type": "code",
   "execution_count": 48,
   "metadata": {},
   "outputs": [
    {
     "name": "stdout",
     "output_type": "stream",
     "text": [
      "0 percentile value is 225.21\n",
      "10 percentile value is 718.14\n",
      "20 percentile value is 932.64\n",
      "30 percentile value is 1147.14\n",
      "40 percentile value is 1361.64\n",
      "50 percentile value is 1618.54\n",
      "60 percentile value is 1998.67\n",
      "70 percentile value is 2418.87\n",
      "80 percentile value is 3149.14\n",
      "90 percentile value is 4473.49\n",
      "100 percentile value is  130540.12\n"
     ]
    }
   ],
   "source": [
    "for i in range(0, 100, 10):\n",
    "    var = data_price\n",
    "    var = np.sort(var,axis = None)\n",
    "    print(\"{} percentile value is {}\".format(i,var[int(len(var)*(float(i)/100))]))\n",
    "print(\"100 percentile value is \",var[-1])"
   ]
  },
  {
   "cell_type": "code",
   "execution_count": 25,
   "metadata": {},
   "outputs": [
    {
     "data": {
      "text/plain": [
       "0.9181963806390163"
      ]
     },
     "execution_count": 25,
     "metadata": {},
     "output_type": "execute_result"
    }
   ],
   "source": [
    "data_price[data_price < 5000].shape[0] / data_price.shape[0]"
   ]
  },
  {
   "cell_type": "markdown",
   "metadata": {},
   "source": [
    "91% of the products that have been sold have a price lower thant 5k. In order to develop a model capable to estimate the selling price we will need to focus on the product that have been sold and remove the outliers."
   ]
  },
  {
   "cell_type": "code",
   "execution_count": 49,
   "metadata": {
    "scrolled": false
   },
   "outputs": [
    {
     "data": {
      "image/png": "[encoded data removed]",
      "text/plain": [
       "<Figure size 432x288 with 2 Axes>"
      ]
     },
     "metadata": {},
     "output_type": "display_data"
    }
   ],
   "source": [
    "import seaborn as sns\n",
    "\n",
    "data_sold = data_prod[data_prod[\"sold\"] == 1]\n",
    "\n",
    "corr = data_sold.corr()\n",
    "\n",
    "ax = sns.heatmap(\n",
    "    corr, \n",
    "    vmin=-1, vmax=1, center=0,\n",
    "    cmap=sns.diverging_palette(20, 220, n=200),\n",
    "    square=True\n",
    ")\n",
    "ax.set_xticklabels(\n",
    "    ax.get_xticklabels(),\n",
    "    rotation=45,\n",
    "    horizontalalignment='right'\n",
    ");"
   ]
  },
  {
   "cell_type": "markdown",
   "metadata": {},
   "source": [
    "We notice the strong correlation between pop1 and pop2 which both calculate the popularity oh a certain product"
   ]
  },
  {
   "cell_type": "code",
   "execution_count": 50,
   "metadata": {
    "scrolled": true
   },
   "outputs": [],
   "source": [
    "brand_mean_price = data_sold.groupby(\"brand\").agg({\"price\":\"mean\"}).reset_index()\n",
    "brand_mean_price.columns = [\"brand\",\"brand_mean_price\"]\n",
    "data_sold = data_sold.merge(brand_mean_price, on=\"brand\", how=\"left\")\n",
    "\n"
   ]
  },
  {
   "cell_type": "code",
   "execution_count": 53,
   "metadata": {},
   "outputs": [
    {
     "data": {
      "text/plain": [
       "<AxesSubplot:xlabel='brand_mean_price', ylabel='price'>"
      ]
     },
     "execution_count": 53,
     "metadata": {},
     "output_type": "execute_result"
    },
    {
     "data": {
      "image/png": "[encoded data removed]",
      "text/plain": [
       "<Figure size 432x288 with 1 Axes>"
      ]
     },
     "metadata": {},
     "output_type": "display_data"
    }
   ],
   "source": [
    "sns.regplot(x=\"brand_mean_price\", y=\"price\", data=data_sold,\n",
    "            scatter_kws={\"alpha\":0.5}, line_kws={\"color\":\"orange\"})"
   ]
  },
  {
   "cell_type": "code",
   "execution_count": 54,
   "metadata": {
    "scrolled": true
   },
   "outputs": [
    {
     "data": {
      "text/html": [
       "<div>\n",
       "<style scoped>\n",
       "    .dataframe tbody tr th:only-of-type {\n",
       "        vertical-align: middle;\n",
       "    }\n",
       "\n",
       "    .dataframe tbody tr th {\n",
       "        vertical-align: top;\n",
       "    }\n",
       "\n",
       "    .dataframe thead th {\n",
       "        text-align: right;\n",
       "    }\n",
       "</style>\n",
       "<table border=\"1\" class=\"dataframe\">\n",
       "  <thead>\n",
       "    <tr style=\"text-align: right;\">\n",
       "      <th></th>\n",
       "      <th>category</th>\n",
       "      <th>sub_category</th>\n",
       "      <th>brand</th>\n",
       "      <th>model</th>\n",
       "      <th>material</th>\n",
       "      <th>color</th>\n",
       "      <th>quality</th>\n",
       "      <th>flag</th>\n",
       "      <th>pop1</th>\n",
       "      <th>pop2</th>\n",
       "      <th>time_online</th>\n",
       "      <th>sold</th>\n",
       "      <th>price</th>\n",
       "      <th>sold_in_30_days</th>\n",
       "      <th>brand_mean_price</th>\n",
       "    </tr>\n",
       "  </thead>\n",
       "  <tbody>\n",
       "    <tr>\n",
       "      <th>11082</th>\n",
       "      <td>2.0</td>\n",
       "      <td>11.0</td>\n",
       "      <td>47.0</td>\n",
       "      <td>NaN</td>\n",
       "      <td>47.0</td>\n",
       "      <td>12.0</td>\n",
       "      <td>2.0</td>\n",
       "      <td>0</td>\n",
       "      <td>21</td>\n",
       "      <td>391</td>\n",
       "      <td>26</td>\n",
       "      <td>1</td>\n",
       "      <td>130540.12</td>\n",
       "      <td>True</td>\n",
       "      <td>3084.305849</td>\n",
       "    </tr>\n",
       "  </tbody>\n",
       "</table>\n",
       "</div>"
      ],
      "text/plain": [
       "       category  sub_category  brand  model  material  color  quality  flag  \\\n",
       "11082       2.0          11.0   47.0    NaN      47.0   12.0      2.0     0   \n",
       "\n",
       "       pop1  pop2  time_online  sold      price  sold_in_30_days  \\\n",
       "11082    21   391           26     1  130540.12             True   \n",
       "\n",
       "       brand_mean_price  \n",
       "11082       3084.305849  "
      ]
     },
     "execution_count": 54,
     "metadata": {},
     "output_type": "execute_result"
    }
   ],
   "source": [
    "data_sold[data_sold[\"price\"]>130000]"
   ]
  },
  {
   "cell_type": "markdown",
   "metadata": {},
   "source": [
    "#### cleaning of the data"
   ]
  },
  {
   "cell_type": "code",
   "execution_count": 120,
   "metadata": {
    "collapsed": true
   },
   "outputs": [],
   "source": [
    "def clean_data(data_prod):\n",
    "    \n",
    "    data_prod[\"sold_in_30_days\"] = data_prod.apply(lambda x: True if x[\"sold\"] == 1 and x[\"time_online\"]<=30 else False, axis=1)\n",
    "    \n",
    "    anaylse_sell_rate = data_prod.groupby([\"category\",\"sold_in_30_days\"]).brand.count().reset_index()\n",
    "    anaylse_sell_rate = pd.pivot_table(anaylse_sell_rate, values='brand', index=[\"category\"], columns=[\"sold_in_30_days\"], aggfunc=np.sum).reset_index()\n",
    "    anaylse_sell_rate[\"sell_rate\"] = anaylse_sell_rate[True] / (anaylse_sell_rate[False] + anaylse_sell_rate[True]) * 100\n",
    "    \n",
    "    anaylse_sell_rate = anaylse_sell_rate[[\"category\",\"sell_rate\"]]\n",
    "    \n",
    "    data_prod = data_prod.merge(anaylse_sell_rate, on=\"category\", how=\"left\")\n",
    "    \n",
    "    # select data sold\n",
    "    data_sold = data_prod[data_prod[\"sold\"] == 1]\n",
    "\n",
    "    # remove model feature since 93% of missing values\n",
    "    data_sold = data_sold.drop(\"model\", axis=1)\n",
    "\n",
    "    # fillna for color and material \n",
    "    data_sold[\"color\"] = data_sold.color.fillna(-1)\n",
    "    data_sold[\"material\"] = data_sold.material.fillna(-1)\n",
    "    \n",
    "    #remove the outliers \n",
    "    data_sold = data_sold[data_sold.price < 10000]\n",
    "    \n",
    "    brand_mean_price = data_sold.groupby(\"brand\").agg({\"price\":\"mean\"}).reset_index()\n",
    "    brand_mean_price.columns = [\"brand\",\"brand_mean_price\"]\n",
    "    data_sold = data_sold.merge(brand_mean_price, on=\"brand\", how=\"left\")\n",
    "    \n",
    "\n",
    "    return data_sold"
   ]
  },
  {
   "cell_type": "code",
   "execution_count": 121,
   "metadata": {
    "collapsed": true
   },
   "outputs": [],
   "source": [
    "def normalize(df, cols_to_normalize):\n",
    "    result = df.copy()\n",
    "    for feature_name in df.columns:\n",
    "        if (feature_name in cols_to_normalize):\n",
    "            max_value = df[feature_name].max()\n",
    "            min_value = df[feature_name].min()\n",
    "            result[feature_name] = (df[feature_name] - min_value) / (max_value - min_value)\n",
    "    \n",
    "    return result\n",
    "\n",
    "def feature_engineering(data_sold):\n",
    "    categorical_feature = [\"category\",\"sub_category\",\"brand\",\"material\",\"color\",\"quality\",\"sold_in_30_days\"]\n",
    "    continuous_feature = [\"pop1\", \"pop2\",\"price\",\"sell_rate\",\"brand_mean_price\"]\n",
    "    colums = categorical_feature + continuous_feature\n",
    "    data_sold = data_sold[colums]\n",
    "\n",
    "    for categ in categorical_feature:\n",
    "        data_sold[categ] = data_sold[categ].astype(int)\n",
    "\n",
    "    for conti in continuous_feature:\n",
    "        data_sold[conti] = data_sold[conti].astype(float)\n",
    "\n",
    "    cols_to_normalise = continuous_feature.copy()\n",
    "    cols_to_normalise.remove(\"price\")\n",
    "    data_sold = normalize(data_sold, cols_to_normalise)\n",
    "    \n",
    "    return data_sold"
   ]
  },
  {
   "cell_type": "code",
   "execution_count": 122,
   "metadata": {
    "scrolled": true
   },
   "outputs": [
    {
     "name": "stderr",
     "output_type": "stream",
     "text": [
      "C:\\Users\\ASUS\\Anaconda3\\lib\\site-packages\\ipykernel_launcher.py:18: SettingWithCopyWarning: \n",
      "A value is trying to be set on a copy of a slice from a DataFrame.\n",
      "Try using .loc[row_indexer,col_indexer] = value instead\n",
      "\n",
      "See the caveats in the documentation: https://pandas.pydata.org/pandas-docs/stable/user_guide/indexing.html#returning-a-view-versus-a-copy\n",
      "C:\\Users\\ASUS\\Anaconda3\\lib\\site-packages\\ipykernel_launcher.py:21: SettingWithCopyWarning: \n",
      "A value is trying to be set on a copy of a slice from a DataFrame.\n",
      "Try using .loc[row_indexer,col_indexer] = value instead\n",
      "\n",
      "See the caveats in the documentation: https://pandas.pydata.org/pandas-docs/stable/user_guide/indexing.html#returning-a-view-versus-a-copy\n"
     ]
    }
   ],
   "source": [
    "data_sold = clean_data(data_init)\n",
    "data_sold = feature_engineering(data_sold)"
   ]
  },
  {
   "cell_type": "code",
   "execution_count": 123,
   "metadata": {
    "scrolled": false
   },
   "outputs": [
    {
     "data": {
      "text/plain": [
       "category            0.0\n",
       "sub_category        0.0\n",
       "brand               0.0\n",
       "material            0.0\n",
       "color               0.0\n",
       "quality             0.0\n",
       "sold_in_30_days     0.0\n",
       "pop1                0.0\n",
       "pop2                0.0\n",
       "price               0.0\n",
       "sell_rate           0.0\n",
       "brand_mean_price    0.0\n",
       "dtype: float64"
      ]
     },
     "execution_count": 123,
     "metadata": {},
     "output_type": "execute_result"
    }
   ],
   "source": [
    "data_sold.isnull().sum() / data_sold.shape[0] * 100"
   ]
  },
  {
   "cell_type": "code",
   "execution_count": 125,
   "metadata": {},
   "outputs": [
    {
     "data": {
      "text/plain": [
       "(45547, 12)"
      ]
     },
     "execution_count": 125,
     "metadata": {},
     "output_type": "execute_result"
    }
   ],
   "source": [
    "data_sold.shape"
   ]
  },
  {
   "cell_type": "markdown",
   "metadata": {},
   "source": [
    "#### train test split "
   ]
  },
  {
   "cell_type": "markdown",
   "metadata": {},
   "source": [
    "Before splitting we'll need to convert the target variable to logarithmic scale in order to use root mean square error as the metric instead of explicitly defining a complex metric RMSLE (RMSLE is nothing but RMSE of log values)"
   ]
  },
  {
   "cell_type": "code",
   "execution_count": 126,
   "metadata": {},
   "outputs": [
    {
     "name": "stdout",
     "output_type": "stream",
     "text": [
      "Train size: (40992, 11), Test size: (4555, 11)\n"
     ]
    }
   ],
   "source": [
    "y = np.log1p(data_sold[\"price\"])\n",
    "X = data_sold.drop(\"price\", axis=1)\n",
    "\n",
    "X_train, X_test , y_train, y_test = train_test_split(X, y, test_size=0.1, random_state=42)\n",
    "\n",
    "print('Train size: {}, Test size: {}' .format(X_train.shape, X_test.shape))\n"
   ]
  },
  {
   "cell_type": "markdown",
   "metadata": {},
   "source": [
    "#### SVR"
   ]
  },
  {
   "cell_type": "code",
   "execution_count": 99,
   "metadata": {
    "scrolled": true
   },
   "outputs": [
    {
     "name": "stderr",
     "output_type": "stream",
     "text": [
      "C:\\Users\\ASUS\\AppData\\Roaming\\Python\\Python36\\site-packages\\sklearn\\svm\\_base.py:258: ConvergenceWarning: Solver terminated early (max_iter=200).  Consider pre-processing your data with StandardScaler or MinMaxScaler.\n",
      "  % self.max_iter, ConvergenceWarning)\n"
     ]
    },
    {
     "name": "stdout",
     "output_type": "stream",
     "text": [
      "Train RMSLE: 0.7167664256594026\n",
      "Cross validation RMSLE:  0.723155834619282\n"
     ]
    },
    {
     "name": "stderr",
     "output_type": "stream",
     "text": [
      "C:\\Users\\ASUS\\AppData\\Roaming\\Python\\Python36\\site-packages\\sklearn\\svm\\_base.py:258: ConvergenceWarning: Solver terminated early (max_iter=200).  Consider pre-processing your data with StandardScaler or MinMaxScaler.\n",
      "  % self.max_iter, ConvergenceWarning)\n"
     ]
    },
    {
     "name": "stdout",
     "output_type": "stream",
     "text": [
      "Train RMSLE: 0.7167592137664632\n",
      "Cross validation RMSLE:  0.7231579863353922\n"
     ]
    },
    {
     "name": "stderr",
     "output_type": "stream",
     "text": [
      "C:\\Users\\ASUS\\AppData\\Roaming\\Python\\Python36\\site-packages\\sklearn\\svm\\_base.py:258: ConvergenceWarning: Solver terminated early (max_iter=200).  Consider pre-processing your data with StandardScaler or MinMaxScaler.\n",
      "  % self.max_iter, ConvergenceWarning)\n"
     ]
    },
    {
     "name": "stdout",
     "output_type": "stream",
     "text": [
      "Train RMSLE: 0.7168511614898568\n",
      "Cross validation RMSLE:  0.7233160772024511\n"
     ]
    },
    {
     "name": "stderr",
     "output_type": "stream",
     "text": [
      "C:\\Users\\ASUS\\AppData\\Roaming\\Python\\Python36\\site-packages\\sklearn\\svm\\_base.py:258: ConvergenceWarning: Solver terminated early (max_iter=200).  Consider pre-processing your data with StandardScaler or MinMaxScaler.\n",
      "  % self.max_iter, ConvergenceWarning)\n"
     ]
    },
    {
     "name": "stdout",
     "output_type": "stream",
     "text": [
      "Train RMSLE: 0.7169466109932763\n",
      "Cross validation RMSLE:  0.7234729076714559\n"
     ]
    },
    {
     "name": "stderr",
     "output_type": "stream",
     "text": [
      "C:\\Users\\ASUS\\AppData\\Roaming\\Python\\Python36\\site-packages\\sklearn\\svm\\_base.py:258: ConvergenceWarning: Solver terminated early (max_iter=200).  Consider pre-processing your data with StandardScaler or MinMaxScaler.\n",
      "  % self.max_iter, ConvergenceWarning)\n"
     ]
    },
    {
     "name": "stdout",
     "output_type": "stream",
     "text": [
      "Train RMSLE: 0.717389836984215\n",
      "Cross validation RMSLE:  0.7241017203734862\n"
     ]
    },
    {
     "name": "stderr",
     "output_type": "stream",
     "text": [
      "C:\\Users\\ASUS\\AppData\\Roaming\\Python\\Python36\\site-packages\\sklearn\\svm\\_base.py:258: ConvergenceWarning: Solver terminated early (max_iter=200).  Consider pre-processing your data with StandardScaler or MinMaxScaler.\n",
      "  % self.max_iter, ConvergenceWarning)\n"
     ]
    },
    {
     "name": "stdout",
     "output_type": "stream",
     "text": [
      "Train RMSLE: 0.71797216921611\n",
      "Cross validation RMSLE:  0.724764133512414\n"
     ]
    },
    {
     "name": "stderr",
     "output_type": "stream",
     "text": [
      "C:\\Users\\ASUS\\AppData\\Roaming\\Python\\Python36\\site-packages\\sklearn\\svm\\_base.py:258: ConvergenceWarning: Solver terminated early (max_iter=200).  Consider pre-processing your data with StandardScaler or MinMaxScaler.\n",
      "  % self.max_iter, ConvergenceWarning)\n"
     ]
    },
    {
     "name": "stdout",
     "output_type": "stream",
     "text": [
      "Train RMSLE: 0.7196564925780399\n",
      "Cross validation RMSLE:  0.7267412090751193\n"
     ]
    },
    {
     "data": {
      "image/png": "[encoded data removed]",
      "text/plain": [
       "<Figure size 432x288 with 1 Axes>"
      ]
     },
     "metadata": {},
     "output_type": "display_data"
    }
   ],
   "source": [
    "from sklearn.svm import SVR\n",
    "from math import sqrt \n",
    "from sklearn.metrics import mean_squared_error as mse\n",
    "\n",
    "c = [0.0001, 0.01, 0.1, 0.2, 0.5, 0.6, 1] \n",
    "cv_rmsle_array=[] \n",
    "\n",
    "for i in c:    \n",
    "    # print('Best C: ', best_C)\n",
    "    model = SVR(C=i, max_iter=200)\n",
    "    model.fit(X_train, y_train)\n",
    "\n",
    "    svr_preds_tr = model.predict(X_train)\n",
    "    svr_preds_cv = model.predict(X_test)\n",
    "    print('Train RMSLE:', sqrt(mse(y_train, svr_preds_tr)))\n",
    "\n",
    "    svr_rmsle = sqrt(mse(y_test, svr_preds_cv))\n",
    "    print(\"Cross validation RMSLE: \", svr_rmsle)\n",
    "    \n",
    "    cv_rmsle_array.append(svr_rmsle)\n",
    "    \n",
    "best_c = np.argmin(cv_rmsle_array)\n",
    "\n",
    "fig, ax = plt.subplots()\n",
    "ax.plot(c, cv_rmsle_array)\n",
    "ax.scatter(c, cv_rmsle_array)\n",
    "for i, txt in enumerate(np.round(cv_rmsle_array,3)):\n",
    "    ax.annotate((c[i],np.round(txt,3)), (c[i],cv_rmsle_array[i]))\n",
    "\n",
    "plt.title(\"Cross Validation Error for each alpha\")\n",
    "plt.xlabel(\"Alpha\")\n",
    "plt.ylabel(\"Error\")\n",
    "plt.show()"
   ]
  },
  {
   "cell_type": "markdown",
   "metadata": {},
   "source": [
    "#### LightGBM"
   ]
  },
  {
   "cell_type": "markdown",
   "metadata": {},
   "source": [
    "Light GBM is a fast, distributed, high-performance gradient boosting framework based on decision tree algorithm. Let's first do a gridSearch in order to find the best parameters"
   ]
  },
  {
   "cell_type": "code",
   "execution_count": 127,
   "metadata": {
    "scrolled": true
   },
   "outputs": [
    {
     "name": "stdout",
     "output_type": "stream",
     "text": [
      "Fitting 3 folds for each of 10 candidates, totalling 30 fits\n",
      "[CV 1/3; 1/10] START colsample_bytree=0.3745401188473625, learning_rate=0.9507143064099162, max_depth=12, min_child_weight=1.5593820005455385, n_estimators=1244, num_leaves=122\n",
      "[CV 1/3; 1/10] END colsample_bytree=0.3745401188473625, learning_rate=0.9507143064099162, max_depth=12, min_child_weight=1.5593820005455385, n_estimators=1244, num_leaves=122;, score=(train=-0.042, test=-0.516) total time=  18.0s\n",
      "[CV 2/3; 1/10] START colsample_bytree=0.3745401188473625, learning_rate=0.9507143064099162, max_depth=12, min_child_weight=1.5593820005455385, n_estimators=1244, num_leaves=122\n",
      "[CV 2/3; 1/10] END colsample_bytree=0.3745401188473625, learning_rate=0.9507143064099162, max_depth=12, min_child_weight=1.5593820005455385, n_estimators=1244, num_leaves=122;, score=(train=-0.041, test=-0.522) total time=  16.9s\n",
      "[CV 3/3; 1/10] START colsample_bytree=0.3745401188473625, learning_rate=0.9507143064099162, max_depth=12, min_child_weight=1.5593820005455385, n_estimators=1244, num_leaves=122\n",
      "[CV 3/3; 1/10] END colsample_bytree=0.3745401188473625, learning_rate=0.9507143064099162, max_depth=12, min_child_weight=1.5593820005455385, n_estimators=1244, num_leaves=122;, score=(train=-0.041, test=-0.515) total time=  20.1s\n",
      "[CV 1/3; 2/10] START colsample_bytree=0.44583275285359114, learning_rate=0.09997491581800289, max_depth=12, min_child_weight=1.7323522915498704, n_estimators=1323, num_leaves=123\n",
      "[CV 1/3; 2/10] END colsample_bytree=0.44583275285359114, learning_rate=0.09997491581800289, max_depth=12, min_child_weight=1.7323522915498704, n_estimators=1323, num_leaves=123;, score=(train=-0.177, test=-0.411) total time=  35.7s\n",
      "[CV 2/3; 2/10] START colsample_bytree=0.44583275285359114, learning_rate=0.09997491581800289, max_depth=12, min_child_weight=1.7323522915498704, n_estimators=1323, num_leaves=123\n",
      "[CV 2/3; 2/10] END colsample_bytree=0.44583275285359114, learning_rate=0.09997491581800289, max_depth=12, min_child_weight=1.7323522915498704, n_estimators=1323, num_leaves=123;, score=(train=-0.172, test=-0.415) total time=  41.2s\n",
      "[CV 3/3; 2/10] START colsample_bytree=0.44583275285359114, learning_rate=0.09997491581800289, max_depth=12, min_child_weight=1.7323522915498704, n_estimators=1323, num_leaves=123\n",
      "[CV 3/3; 2/10] END colsample_bytree=0.44583275285359114, learning_rate=0.09997491581800289, max_depth=12, min_child_weight=1.7323522915498704, n_estimators=1323, num_leaves=123;, score=(train=-0.171, test=-0.413) total time=  34.4s\n",
      "[CV 1/3; 3/10] START colsample_bytree=0.7080725777960455, learning_rate=0.020584494295802447, max_depth=3, min_child_weight=1.4439975445336495, n_estimators=1005, num_leaves=149\n",
      "[CV 1/3; 3/10] END colsample_bytree=0.7080725777960455, learning_rate=0.020584494295802447, max_depth=3, min_child_weight=1.4439975445336495, n_estimators=1005, num_leaves=149;, score=(train=-0.451, test=-0.456) total time=   6.8s\n",
      "[CV 2/3; 3/10] START colsample_bytree=0.7080725777960455, learning_rate=0.020584494295802447, max_depth=3, min_child_weight=1.4439975445336495, n_estimators=1005, num_leaves=149\n",
      "[CV 2/3; 3/10] END colsample_bytree=0.7080725777960455, learning_rate=0.020584494295802447, max_depth=3, min_child_weight=1.4439975445336495, n_estimators=1005, num_leaves=149;, score=(train=-0.450, test=-0.458) total time=   3.8s\n",
      "[CV 3/3; 3/10] START colsample_bytree=0.7080725777960455, learning_rate=0.020584494295802447, max_depth=3, min_child_weight=1.4439975445336495, n_estimators=1005, num_leaves=149\n",
      "[CV 3/3; 3/10] END colsample_bytree=0.7080725777960455, learning_rate=0.020584494295802447, max_depth=3, min_child_weight=1.4439975445336495, n_estimators=1005, num_leaves=149;, score=(train=-0.450, test=-0.460) total time=   4.3s\n",
      "[CV 1/3; 4/10] START colsample_bytree=0.18182496720710062, learning_rate=0.18340450985343382, max_depth=13, min_child_weight=1.2233063209765618, n_estimators=452, num_leaves=108\n",
      "[CV 1/3; 4/10] END colsample_bytree=0.18182496720710062, learning_rate=0.18340450985343382, max_depth=13, min_child_weight=1.2233063209765618, n_estimators=452, num_leaves=108;, score=(train=-0.337, test=-0.430) total time=   8.9s\n",
      "[CV 2/3; 4/10] START colsample_bytree=0.18182496720710062, learning_rate=0.18340450985343382, max_depth=13, min_child_weight=1.2233063209765618, n_estimators=452, num_leaves=108\n",
      "[CV 2/3; 4/10] END colsample_bytree=0.18182496720710062, learning_rate=0.18340450985343382, max_depth=13, min_child_weight=1.2233063209765618, n_estimators=452, num_leaves=108;, score=(train=-0.333, test=-0.436) total time=   5.2s\n",
      "[CV 3/3; 4/10] START colsample_bytree=0.18182496720710062, learning_rate=0.18340450985343382, max_depth=13, min_child_weight=1.2233063209765618, n_estimators=452, num_leaves=108\n",
      "[CV 3/3; 4/10] END colsample_bytree=0.18182496720710062, learning_rate=0.18340450985343382, max_depth=13, min_child_weight=1.2233063209765618, n_estimators=452, num_leaves=108;, score=(train=-0.333, test=-0.434) total time=   4.4s\n",
      "[CV 1/3; 5/10] START colsample_bytree=0.2912291401980419, learning_rate=0.6118528947223795, max_depth=11, min_child_weight=0.09333132642723085, n_estimators=899, num_leaves=34\n",
      "[CV 1/3; 5/10] END colsample_bytree=0.2912291401980419, learning_rate=0.6118528947223795, max_depth=11, min_child_weight=0.09333132642723085, n_estimators=899, num_leaves=34;, score=(train=-0.245, test=-0.446) total time=   4.2s\n",
      "[CV 2/3; 5/10] START colsample_bytree=0.2912291401980419, learning_rate=0.6118528947223795, max_depth=11, min_child_weight=0.09333132642723085, n_estimators=899, num_leaves=34\n",
      "[CV 2/3; 5/10] END colsample_bytree=0.2912291401980419, learning_rate=0.6118528947223795, max_depth=11, min_child_weight=0.09333132642723085, n_estimators=899, num_leaves=34;, score=(train=-0.242, test=-0.451) total time=   4.8s\n",
      "[CV 3/3; 5/10] START colsample_bytree=0.2912291401980419, learning_rate=0.6118528947223795, max_depth=11, min_child_weight=0.09333132642723085, n_estimators=899, num_leaves=34\n",
      "[CV 3/3; 5/10] END colsample_bytree=0.2912291401980419, learning_rate=0.6118528947223795, max_depth=11, min_child_weight=0.09333132642723085, n_estimators=899, num_leaves=34;, score=(train=-0.241, test=-0.446) total time=   4.4s\n",
      "[CV 1/3; 6/10] START colsample_bytree=0.45606998421703593, learning_rate=0.7851759613930136, max_depth=4, min_child_weight=0.7649239825343255, n_estimators=1467, num_leaves=83\n",
      "[CV 1/3; 6/10] END colsample_bytree=0.45606998421703593, learning_rate=0.7851759613930136, max_depth=4, min_child_weight=0.7649239825343255, n_estimators=1467, num_leaves=83;, score=(train=-0.270, test=-0.452) total time=   5.5s\n",
      "[CV 2/3; 6/10] START colsample_bytree=0.45606998421703593, learning_rate=0.7851759613930136, max_depth=4, min_child_weight=0.7649239825343255, n_estimators=1467, num_leaves=83\n",
      "[CV 2/3; 6/10] END colsample_bytree=0.45606998421703593, learning_rate=0.7851759613930136, max_depth=4, min_child_weight=0.7649239825343255, n_estimators=1467, num_leaves=83;, score=(train=-0.268, test=-0.456) total time=   5.5s\n",
      "[CV 3/3; 6/10] START colsample_bytree=0.45606998421703593, learning_rate=0.7851759613930136, max_depth=4, min_child_weight=0.7649239825343255, n_estimators=1467, num_leaves=83\n",
      "[CV 3/3; 6/10] END colsample_bytree=0.45606998421703593, learning_rate=0.7851759613930136, max_depth=4, min_child_weight=0.7649239825343255, n_estimators=1467, num_leaves=83;, score=(train=-0.269, test=-0.452) total time=   5.5s\n",
      "[CV 1/3; 7/10] START colsample_bytree=0.4667628932479799, learning_rate=0.8599404067363206, max_depth=8, min_child_weight=0.34104824737458306, n_estimators=366, num_leaves=37\n",
      "[CV 1/3; 7/10] END colsample_bytree=0.4667628932479799, learning_rate=0.8599404067363206, max_depth=8, min_child_weight=0.34104824737458306, n_estimators=366, num_leaves=37;, score=(train=-0.240, test=-0.468) total time=   2.1s\n",
      "[CV 2/3; 7/10] START colsample_bytree=0.4667628932479799, learning_rate=0.8599404067363206, max_depth=8, min_child_weight=0.34104824737458306, n_estimators=366, num_leaves=37\n",
      "[CV 2/3; 7/10] END colsample_bytree=0.4667628932479799, learning_rate=0.8599404067363206, max_depth=8, min_child_weight=0.34104824737458306, n_estimators=366, num_leaves=37;, score=(train=-0.240, test=-0.471) total time=   2.4s\n",
      "[CV 3/3; 7/10] START colsample_bytree=0.4667628932479799, learning_rate=0.8599404067363206, max_depth=8, min_child_weight=0.34104824737458306, n_estimators=366, num_leaves=37\n"
     ]
    },
    {
     "name": "stdout",
     "output_type": "stream",
     "text": [
      "[CV 3/3; 7/10] END colsample_bytree=0.4667628932479799, learning_rate=0.8599404067363206, max_depth=8, min_child_weight=0.34104824737458306, n_estimators=366, num_leaves=37;, score=(train=-0.240, test=-0.475) total time=   2.2s\n",
      "[CV 1/3; 8/10] START colsample_bytree=0.9488855372533332, learning_rate=0.9656320330745594, max_depth=3, min_child_weight=0.7708330050798322, n_estimators=764, num_leaves=149\n",
      "[CV 1/3; 8/10] END colsample_bytree=0.9488855372533332, learning_rate=0.9656320330745594, max_depth=3, min_child_weight=0.7708330050798322, n_estimators=764, num_leaves=149;, score=(train=-0.357, test=-0.445) total time=   2.1s\n",
      "[CV 2/3; 8/10] START colsample_bytree=0.9488855372533332, learning_rate=0.9656320330745594, max_depth=3, min_child_weight=0.7708330050798322, n_estimators=764, num_leaves=149\n",
      "[CV 2/3; 8/10] END colsample_bytree=0.9488855372533332, learning_rate=0.9656320330745594, max_depth=3, min_child_weight=0.7708330050798322, n_estimators=764, num_leaves=149;, score=(train=-0.356, test=-0.449) total time=   2.1s\n",
      "[CV 3/3; 8/10] START colsample_bytree=0.9488855372533332, learning_rate=0.9656320330745594, max_depth=3, min_child_weight=0.7708330050798322, n_estimators=764, num_leaves=149\n",
      "[CV 3/3; 8/10] END colsample_bytree=0.9488855372533332, learning_rate=0.9656320330745594, max_depth=3, min_child_weight=0.7708330050798322, n_estimators=764, num_leaves=149;, score=(train=-0.357, test=-0.448) total time=   1.8s\n",
      "[CV 1/3; 9/10] START colsample_bytree=0.6842330265121569, learning_rate=0.4401524937396013, max_depth=8, min_child_weight=1.2199933155652418, n_estimators=975, num_leaves=194\n",
      "[CV 1/3; 9/10] END colsample_bytree=0.6842330265121569, learning_rate=0.4401524937396013, max_depth=8, min_child_weight=1.2199933155652418, n_estimators=975, num_leaves=194;, score=(train=-0.072, test=-0.445) total time=  11.1s\n",
      "[CV 2/3; 9/10] START colsample_bytree=0.6842330265121569, learning_rate=0.4401524937396013, max_depth=8, min_child_weight=1.2199933155652418, n_estimators=975, num_leaves=194\n",
      "[CV 2/3; 9/10] END colsample_bytree=0.6842330265121569, learning_rate=0.4401524937396013, max_depth=8, min_child_weight=1.2199933155652418, n_estimators=975, num_leaves=194;, score=(train=-0.071, test=-0.452) total time=  12.4s\n",
      "[CV 3/3; 9/10] START colsample_bytree=0.6842330265121569, learning_rate=0.4401524937396013, max_depth=8, min_child_weight=1.2199933155652418, n_estimators=975, num_leaves=194\n",
      "[CV 3/3; 9/10] END colsample_bytree=0.6842330265121569, learning_rate=0.4401524937396013, max_depth=8, min_child_weight=1.2199933155652418, n_estimators=975, num_leaves=194;, score=(train=-0.072, test=-0.447) total time=  12.3s\n",
      "[CV 1/3; 10/10] START colsample_bytree=0.17336465350777208, learning_rate=0.3910606075732408, max_depth=3, min_child_weight=1.325044568707964, n_estimators=1225, num_leaves=153\n",
      "[CV 1/3; 10/10] END colsample_bytree=0.17336465350777208, learning_rate=0.3910606075732408, max_depth=3, min_child_weight=1.325044568707964, n_estimators=1225, num_leaves=153;, score=(train=-0.404, test=-0.437) total time=   2.6s\n",
      "[CV 2/3; 10/10] START colsample_bytree=0.17336465350777208, learning_rate=0.3910606075732408, max_depth=3, min_child_weight=1.325044568707964, n_estimators=1225, num_leaves=153\n",
      "[CV 2/3; 10/10] END colsample_bytree=0.17336465350777208, learning_rate=0.3910606075732408, max_depth=3, min_child_weight=1.325044568707964, n_estimators=1225, num_leaves=153;, score=(train=-0.402, test=-0.441) total time=   2.7s\n",
      "[CV 3/3; 10/10] START colsample_bytree=0.17336465350777208, learning_rate=0.3910606075732408, max_depth=3, min_child_weight=1.325044568707964, n_estimators=1225, num_leaves=153\n",
      "[CV 3/3; 10/10] END colsample_bytree=0.17336465350777208, learning_rate=0.3910606075732408, max_depth=3, min_child_weight=1.325044568707964, n_estimators=1225, num_leaves=153;, score=(train=-0.403, test=-0.441) total time=   2.4s\n",
      "{'colsample_bytree': 0.44583275285359114, 'learning_rate': 0.09997491581800289, 'max_depth': 12, 'min_child_weight': 1.7323522915498704, 'n_estimators': 1323, 'num_leaves': 123}\n"
     ]
    }
   ],
   "source": [
    "from lightgbm import LGBMRegressor\n",
    "from scipy.stats import randint, uniform\n",
    "from sklearn.model_selection import RandomizedSearchCV\n",
    "\n",
    "lgb_model = LGBMRegressor(subsample=0.9)\n",
    "\n",
    "params = {'learning_rate': uniform(0, 1),\n",
    "          'n_estimators': randint(200, 1500),\n",
    "          'num_leaves': randint(20, 200),\n",
    "          'max_depth': randint(2, 15),\n",
    "          'min_child_weight': uniform(0, 2),\n",
    "          'colsample_bytree': uniform(0, 1),\n",
    "         }\n",
    "lgb_random = RandomizedSearchCV(lgb_model, param_distributions=params, n_iter=10, cv=3, random_state=42, \n",
    "                                scoring='neg_root_mean_squared_error', verbose=10, return_train_score=True)\n",
    "lgb_random = lgb_random.fit(X_train, y_train)\n",
    "\n",
    "best_params = lgb_random.best_params_"
   ]
  },
  {
   "cell_type": "code",
   "execution_count": 128,
   "metadata": {},
   "outputs": [
    {
     "name": "stdout",
     "output_type": "stream",
     "text": [
      "{'colsample_bytree': 0.44583275285359114, 'learning_rate': 0.09997491581800289, 'max_depth': 12, 'min_child_weight': 1.7323522915498704, 'n_estimators': 1323, 'num_leaves': 123}\n"
     ]
    }
   ],
   "source": [
    "print(best_params)"
   ]
  },
  {
   "cell_type": "code",
   "execution_count": 112,
   "metadata": {},
   "outputs": [],
   "source": [
    "old = best_params"
   ]
  },
  {
   "cell_type": "code",
   "execution_count": 129,
   "metadata": {},
   "outputs": [
    {
     "name": "stdout",
     "output_type": "stream",
     "text": [
      "Train RMSLE: 0.2021755243584302\n",
      "Cross validation RMSLE:  0.39489113001868376\n"
     ]
    }
   ],
   "source": [
    "model = LGBMRegressor(**best_params, subsample=0.9, random_state=42, n_jobs=-1)\n",
    "model.fit(X_train, y_train)\n",
    "\n",
    "lgb_preds_tr = model.predict(X_train)\n",
    "#lgb_preds_cv = model.predict(X_cv)\n",
    "lgb_preds_te = model.predict(X_test)\n",
    "\n",
    "print('Train RMSLE:', sqrt(mse(y_train, lgb_preds_tr)))\n",
    "\n",
    "lgb_rmsle = sqrt(mse(y_test, lgb_preds_te))\n",
    "print(\"Cross validation RMSLE: \", lgb_rmsle)"
   ]
  },
  {
   "cell_type": "markdown",
   "metadata": {},
   "source": [
    "RMSE 0.39 is a good score"
   ]
  },
  {
   "cell_type": "code",
   "execution_count": 130,
   "metadata": {},
   "outputs": [
    {
     "data": {
      "image/png": "[encoded data removed]",
      "text/plain": [
       "<Figure size 864x432 with 2 Axes>"
      ]
     },
     "metadata": {},
     "output_type": "display_data"
    }
   ],
   "source": [
    "from sklearn.inspection import permutation_importance\n",
    "\n",
    "feature_importance = model.feature_importances_\n",
    "sorted_idx = np.argsort(feature_importance)\n",
    "pos = np.arange(sorted_idx.shape[0]) + .5\n",
    "fig = plt.figure(figsize=(12, 6))\n",
    "plt.subplot(1, 2, 1)\n",
    "plt.barh(pos, feature_importance[sorted_idx], align='center')\n",
    "plt.yticks(pos, np.array(X_train.columns)[sorted_idx])\n",
    "plt.title('Feature Importance (MDI)')\n",
    "\n",
    "result = permutation_importance(model, X_test, y_test, n_repeats=10,\n",
    "                                random_state=42, n_jobs=2)\n",
    "sorted_idx = result.importances_mean.argsort()\n",
    "plt.subplot(1, 2, 2)\n",
    "plt.boxplot(result.importances[sorted_idx].T,\n",
    "            vert=False, labels=np.array(X_train.columns)[sorted_idx])\n",
    "plt.title(\"Permutation Importance (test set)\")\n",
    "fig.tight_layout()\n",
    "plt.show()"
   ]
  },
  {
   "cell_type": "markdown",
   "metadata": {},
   "source": [
    "# Conclusion "
   ]
  },
  {
   "cell_type": "markdown",
   "metadata": {},
   "source": [
    "in order to recommend an **acceptable range price** I would use this model to predict the price based on the different features and then create the range by adding the error to the mix"
   ]
  }
 ],
 "metadata": {
  "kernelspec": {
   "display_name": "base",
   "language": "python",
   "name": "base"
  },
  "language_info": {
   "codemirror_mode": {
    "name": "ipython",
    "version": 3
   },
   "file_extension": ".py",
   "mimetype": "text/x-python",
   "name": "python",
   "nbconvert_exporter": "python",
   "pygments_lexer": "ipython3",
   "version": "3.6.1"
  }
 },
 "nbformat": 4,
 "nbformat_minor": 2
}
